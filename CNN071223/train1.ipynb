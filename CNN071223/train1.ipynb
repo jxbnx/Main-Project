{
 "cells": [
  {
   "cell_type": "code",
   "execution_count": 1,
   "metadata": {},
   "outputs": [
    {
     "name": "stdout",
     "output_type": "stream",
     "text": [
      "WARNING:tensorflow:From c:\\Users\\jobin\\anaconda3\\Lib\\site-packages\\keras\\src\\losses.py:2976: The name tf.losses.sparse_softmax_cross_entropy is deprecated. Please use tf.compat.v1.losses.sparse_softmax_cross_entropy instead.\n",
      "\n"
     ]
    }
   ],
   "source": [
    "import matplotlib.pyplot as plt\n",
    "%matplotlib inline\n",
    "import pandas as pd\n",
    "import numpy as np\n",
    "import PIL\n",
    "from PIL import Image\n",
    "from skimage.color import rgb2gray\n",
    "from scipy import ndimage as ndi\n",
    "import cv2\n",
    "import os\n",
    "from os import listdir\n",
    "from sklearn.utils import shuffle\n",
    "from sklearn.metrics import confusion_matrix, classification_report\n",
    "\n",
    "import keras\n",
    "from keras.models import Sequential, load_model\n",
    "from keras.layers import Dense, Activation, Conv2D, MaxPooling2D, Flatten, Dropout, BatchNormalization\n",
    "from keras.optimizers import SGD\n",
    "from keras import regularizers\n",
    "from keras.callbacks import ModelCheckpoint,EarlyStopping\n",
    "from keras.optimizers.schedules import ExponentialDecay\n"
   ]
  },
  {
   "cell_type": "code",
   "execution_count": 2,
   "metadata": {},
   "outputs": [
    {
     "name": "stdout",
     "output_type": "stream",
     "text": [
      "26\n"
     ]
    }
   ],
   "source": [
    "directory_root = \"Dataset\"\n",
    "print(len(listdir(directory_root)))"
   ]
  },
  {
   "cell_type": "code",
   "execution_count": 3,
   "metadata": {},
   "outputs": [
    {
     "name": "stdout",
     "output_type": "stream",
     "text": [
      "[INFO] Loading images ...\n",
      "[INFO] Image loading completed\n"
     ]
    }
   ],
   "source": [
    "image_list, label_list = [], []\n",
    "try:\n",
    "    print(\"[INFO] Loading images ...\")\n",
    "    root_dir = listdir(directory_root)\n",
    "    for directory in root_dir :\n",
    "        # remove .DS_Store from list\n",
    "        if directory == \".DS_Store\" :\n",
    "            root_dir.remove(directory)\n",
    "\n",
    "    for plant_folder in root_dir :\n",
    "        plant_disease_folder_list = listdir(f\"{directory_root}/{plant_folder}\")\n",
    "                \n",
    "        for single_plant_disease_image in plant_disease_folder_list :\n",
    "            if single_plant_disease_image == \".DS_Store\" :\n",
    "                plant_disease_folder_list.remove(single_plant_disease_image)\n",
    "\n",
    "        for image in plant_disease_folder_list:\n",
    "            image_directory = f\"{directory_root}/{plant_folder}/{image}\"\n",
    "            if image_directory.endswith(\".jpg\") == True or image_directory.endswith(\".JPG\") == True:\n",
    "                image_list.append(image_directory)\n",
    "                label_list.append(plant_folder)\n",
    "    print(\"[INFO] Image loading completed\")  \n",
    "except Exception as e:\n",
    "    print(f\"Error : {e}\")"
   ]
  },
  {
   "cell_type": "code",
   "execution_count": 4,
   "metadata": {},
   "outputs": [
    {
     "name": "stdout",
     "output_type": "stream",
     "text": [
      "                                          image_path  \\\n",
      "0  Dataset/Corn_(maize)___Cercospora_leaf_spot Gr...   \n",
      "1  Dataset/Corn_(maize)___Cercospora_leaf_spot Gr...   \n",
      "2  Dataset/Corn_(maize)___Cercospora_leaf_spot Gr...   \n",
      "3  Dataset/Corn_(maize)___Cercospora_leaf_spot Gr...   \n",
      "4  Dataset/Corn_(maize)___Cercospora_leaf_spot Gr...   \n",
      "\n",
      "                                               label  \n",
      "0  Corn_(maize)___Cercospora_leaf_spot Gray_leaf_...  \n",
      "1  Corn_(maize)___Cercospora_leaf_spot Gray_leaf_...  \n",
      "2  Corn_(maize)___Cercospora_leaf_spot Gray_leaf_...  \n",
      "3  Corn_(maize)___Cercospora_leaf_spot Gray_leaf_...  \n",
      "4  Corn_(maize)___Cercospora_leaf_spot Gray_leaf_...  \n",
      "26591\n"
     ]
    }
   ],
   "source": [
    "\n",
    "img_info = pd.DataFrame({'image_path':image_list,'label':label_list})\n",
    "print(img_info.head())\n",
    "print(len(img_info))\n"
   ]
  },
  {
   "cell_type": "code",
   "execution_count": 5,
   "metadata": {},
   "outputs": [
    {
     "data": {
      "text/html": [
       "<div>\n",
       "<style scoped>\n",
       "    .dataframe tbody tr th:only-of-type {\n",
       "        vertical-align: middle;\n",
       "    }\n",
       "\n",
       "    .dataframe tbody tr th {\n",
       "        vertical-align: top;\n",
       "    }\n",
       "\n",
       "    .dataframe thead th {\n",
       "        text-align: right;\n",
       "    }\n",
       "</style>\n",
       "<table border=\"1\" class=\"dataframe\">\n",
       "  <thead>\n",
       "    <tr style=\"text-align: right;\">\n",
       "      <th></th>\n",
       "      <th>image_path</th>\n",
       "      <th>label</th>\n",
       "      <th>labels_integer</th>\n",
       "    </tr>\n",
       "  </thead>\n",
       "  <tbody>\n",
       "    <tr>\n",
       "      <th>26586</th>\n",
       "      <td>Dataset/Tomato___Tomato_Yellow_Leaf_Curl_Virus...</td>\n",
       "      <td>Tomato___Tomato_Yellow_Leaf_Curl_Virus</td>\n",
       "      <td>25</td>\n",
       "    </tr>\n",
       "    <tr>\n",
       "      <th>26587</th>\n",
       "      <td>Dataset/Tomato___Tomato_Yellow_Leaf_Curl_Virus...</td>\n",
       "      <td>Tomato___Tomato_Yellow_Leaf_Curl_Virus</td>\n",
       "      <td>25</td>\n",
       "    </tr>\n",
       "    <tr>\n",
       "      <th>26588</th>\n",
       "      <td>Dataset/Tomato___Tomato_Yellow_Leaf_Curl_Virus...</td>\n",
       "      <td>Tomato___Tomato_Yellow_Leaf_Curl_Virus</td>\n",
       "      <td>25</td>\n",
       "    </tr>\n",
       "    <tr>\n",
       "      <th>26589</th>\n",
       "      <td>Dataset/Tomato___Tomato_Yellow_Leaf_Curl_Virus...</td>\n",
       "      <td>Tomato___Tomato_Yellow_Leaf_Curl_Virus</td>\n",
       "      <td>25</td>\n",
       "    </tr>\n",
       "    <tr>\n",
       "      <th>26590</th>\n",
       "      <td>Dataset/Tomato___Tomato_Yellow_Leaf_Curl_Virus...</td>\n",
       "      <td>Tomato___Tomato_Yellow_Leaf_Curl_Virus</td>\n",
       "      <td>25</td>\n",
       "    </tr>\n",
       "  </tbody>\n",
       "</table>\n",
       "</div>"
      ],
      "text/plain": [
       "                                              image_path  \\\n",
       "26586  Dataset/Tomato___Tomato_Yellow_Leaf_Curl_Virus...   \n",
       "26587  Dataset/Tomato___Tomato_Yellow_Leaf_Curl_Virus...   \n",
       "26588  Dataset/Tomato___Tomato_Yellow_Leaf_Curl_Virus...   \n",
       "26589  Dataset/Tomato___Tomato_Yellow_Leaf_Curl_Virus...   \n",
       "26590  Dataset/Tomato___Tomato_Yellow_Leaf_Curl_Virus...   \n",
       "\n",
       "                                        label labels_integer  \n",
       "26586  Tomato___Tomato_Yellow_Leaf_Curl_Virus             25  \n",
       "26587  Tomato___Tomato_Yellow_Leaf_Curl_Virus             25  \n",
       "26588  Tomato___Tomato_Yellow_Leaf_Curl_Virus             25  \n",
       "26589  Tomato___Tomato_Yellow_Leaf_Curl_Virus             25  \n",
       "26590  Tomato___Tomato_Yellow_Leaf_Curl_Virus             25  "
      ]
     },
     "execution_count": 5,
     "metadata": {},
     "output_type": "execute_result"
    }
   ],
   "source": [
    "#new column (empty)\n",
    "img_info[\"labels_integer\"] = None\n",
    "#index of new column\n",
    "index_labels_integer = img_info.columns.get_loc(\"labels_integer\")\n",
    "#index of species column\n",
    "index_species = img_info.columns.get_loc(\"label\")\n",
    "#to assign numeric labels starting with 0 for the first species\n",
    "k = 0 \n",
    "for i in range(len(img_info)):\n",
    "    if i == 0:\n",
    "        img_info.iloc[i, index_labels_integer] = k #here, k == 0\n",
    "    if i > 0:\n",
    "        if img_info.iloc[i-1, index_species] == img_info.iloc[i, index_species]:\n",
    "            img_info.iloc[i, index_labels_integer] = k\n",
    "        else:\n",
    "            k += 1\n",
    "            img_info.iloc[i, index_labels_integer] = k\n",
    "img_info.tail()"
   ]
  },
  {
   "cell_type": "code",
   "execution_count": 6,
   "metadata": {},
   "outputs": [
    {
     "name": "stderr",
     "output_type": "stream",
     "text": [
      "C:\\Users\\jobin\\AppData\\Local\\Temp\\ipykernel_30488\\2472196027.py:8: DeprecationWarning: ANTIALIAS is deprecated and will be removed in Pillow 10 (2023-07-01). Use LANCZOS or Resampling.LANCZOS instead.\n",
      "  img = img.resize(size, PIL.Image.ANTIALIAS)\n"
     ]
    },
    {
     "name": "stdout",
     "output_type": "stream",
     "text": [
      "26591\n"
     ]
    }
   ],
   "source": [
    "img_info = shuffle(img_info)\n",
    "list_vectors = []\n",
    "\n",
    "for image_path in img_info.image_path:\n",
    "    #read as rgb array\n",
    "    img = Image.open(image_path)\n",
    "    size = (64, 64)\n",
    "    img = img.resize(size, PIL.Image.ANTIALIAS)  \n",
    "    img_array = np.array(img)\n",
    "    #append image vector to list\n",
    "    list_vectors.append(img_array)\n",
    "    \n",
    "print(len(list_vectors))"
   ]
  },
  {
   "cell_type": "code",
   "execution_count": 7,
   "metadata": {},
   "outputs": [
    {
     "name": "stdout",
     "output_type": "stream",
     "text": [
      "(26591, 64, 64, 3)\n"
     ]
    }
   ],
   "source": [
    "X = np.stack((list_vectors))\n",
    "Y =  img_info['labels_integer']\n",
    "print(X.shape)"
   ]
  },
  {
   "cell_type": "code",
   "execution_count": 8,
   "metadata": {},
   "outputs": [
    {
     "name": "stdout",
     "output_type": "stream",
     "text": [
      "(26591,) (26591, 26)\n"
     ]
    }
   ],
   "source": [
    "X = X/255\n",
    "Y_one_hot = keras.utils.to_categorical(Y, num_classes=len(listdir(directory_root)))\n",
    "print(Y.shape, Y_one_hot.shape)"
   ]
  },
  {
   "cell_type": "code",
   "execution_count": 9,
   "metadata": {},
   "outputs": [
    {
     "data": {
      "text/plain": [
       "'\\nnp.savez(\"x_images_arrayscnn\", X)\\nnp.savez(\"y_numeric_labelscnn\", Y_one_hot)\\n'"
      ]
     },
     "execution_count": 9,
     "metadata": {},
     "output_type": "execute_result"
    }
   ],
   "source": [
    "\"\"\"\n",
    "np.savez(\"x_images_arrayscnn\", X)\n",
    "np.savez(\"y_numeric_labelscnn\", Y_one_hot)\n",
    "\"\"\""
   ]
  },
  {
   "cell_type": "code",
   "execution_count": 10,
   "metadata": {},
   "outputs": [
    {
     "data": {
      "text/plain": [
       "'\\nx_npz = np.load(\"x_images_arrayscnn.npz\")\\nX = x_npz[\\'arr_0\\']\\n\\ny_npz = np.load(\"y_numeric_labelscnn.npz\")\\nY_one_hot = y_npz[\\'arr_0\\']\\n\\nprint(X.shape)\\n'"
      ]
     },
     "execution_count": 10,
     "metadata": {},
     "output_type": "execute_result"
    }
   ],
   "source": [
    "\"\"\"\n",
    "x_npz = np.load(\"x_images_arrayscnn.npz\")\n",
    "X = x_npz['arr_0']\n",
    "\n",
    "y_npz = np.load(\"y_numeric_labelscnn.npz\")\n",
    "Y_one_hot = y_npz['arr_0']\n",
    "\n",
    "print(X.shape)\n",
    "\"\"\""
   ]
  },
  {
   "cell_type": "code",
   "execution_count": 11,
   "metadata": {},
   "outputs": [
    {
     "name": "stdout",
     "output_type": "stream",
     "text": [
      "(21272, 64, 64, 3) (2659, 64, 64, 3) (2660, 64, 64, 3) (21272, 26) (2659, 26) (2660, 26)\n"
     ]
    }
   ],
   "source": [
    "split_train = 0.8 #train 0.8, validate 0.1, test 0.1\n",
    "split_val = 0.9\n",
    "index_train = int(split_train*len(X))\n",
    "index_val = int(split_val*len(X))\n",
    "\n",
    "X_train = X[:index_train]\n",
    "X_val = X[index_train:index_val]\n",
    "X_test = X[index_val:]\n",
    "\n",
    "Y_train = Y_one_hot[:index_train]\n",
    "Y_val = Y_one_hot[index_train:index_val]\n",
    "Y_test = Y_one_hot[index_val:]\n",
    "\n",
    "print(X_train.shape, X_val.shape, X_test.shape, Y_train.shape, Y_val.shape, Y_test.shape)"
   ]
  },
  {
   "cell_type": "code",
   "execution_count": 12,
   "metadata": {},
   "outputs": [
    {
     "name": "stdout",
     "output_type": "stream",
     "text": [
      "WARNING:tensorflow:From c:\\Users\\jobin\\anaconda3\\Lib\\site-packages\\keras\\src\\backend.py:873: The name tf.get_default_graph is deprecated. Please use tf.compat.v1.get_default_graph instead.\n",
      "\n",
      "WARNING:tensorflow:From c:\\Users\\jobin\\anaconda3\\Lib\\site-packages\\keras\\src\\layers\\pooling\\max_pooling2d.py:161: The name tf.nn.max_pool is deprecated. Please use tf.nn.max_pool2d instead.\n",
      "\n"
     ]
    }
   ],
   "source": [
    "#CNN\n",
    "input_shape = (X_train.shape[1], X_train.shape[2], X_train.shape[3]) \n",
    "num_classes = len(listdir(directory_root))\n",
    "\n",
    "from keras.optimizers.schedules import ExponentialDecay\n",
    "\n",
    "model = Sequential()\n",
    "\n",
    "model.add(Conv2D(32, kernel_size=(5, 5), strides=(1, 1), input_shape=input_shape))\n",
    "model.add(Activation('relu'))\n",
    "model.add(MaxPooling2D(pool_size=(2, 2), strides=(2, 2)))\n",
    "model.add(Conv2D(64, (5, 5)))\n",
    "model.add(Activation('relu'))\n",
    "model.add(MaxPooling2D(pool_size=(2, 2)))\n",
    "model.add(Dropout(0.7))\n",
    "model.add(Flatten())\n",
    "model.add(Dense(1000))\n",
    "model.add(Activation('relu'))\n",
    "model.add(Dropout(0.7))\n",
    "model.add(Dense(num_classes, activation='softmax'))\n",
    "\n",
    "initial_learning_rate = 0.01\n",
    "lr_schedule = ExponentialDecay(\n",
    "    initial_learning_rate, decay_steps=10000, decay_rate=0.9, staircase=True\n",
    ")\n",
    "optimizer = SGD(learning_rate=lr_schedule, momentum=0.9, nesterov=True)\n",
    "\n",
    "model.compile(\n",
    "    optimizer=optimizer,\n",
    "    loss='categorical_crossentropy',\n",
    "    metrics=['accuracy']\n",
    ")\n",
    "\n",
    "#Early Stopping\n",
    "early_stopping = EarlyStopping(monitor='val_loss', patience=5, restore_best_weights=True)"
   ]
  },
  {
   "cell_type": "code",
   "execution_count": 13,
   "metadata": {},
   "outputs": [
    {
     "name": "stdout",
     "output_type": "stream",
     "text": [
      "Model: \"sequential\"\n",
      "_________________________________________________________________\n",
      " Layer (type)                Output Shape              Param #   \n",
      "=================================================================\n",
      " conv2d (Conv2D)             (None, 60, 60, 32)        2432      \n",
      "                                                                 \n",
      " activation (Activation)     (None, 60, 60, 32)        0         \n",
      "                                                                 \n",
      " max_pooling2d (MaxPooling2  (None, 30, 30, 32)        0         \n",
      " D)                                                              \n",
      "                                                                 \n",
      " conv2d_1 (Conv2D)           (None, 26, 26, 64)        51264     \n",
      "                                                                 \n",
      " activation_1 (Activation)   (None, 26, 26, 64)        0         \n",
      "                                                                 \n",
      " max_pooling2d_1 (MaxPoolin  (None, 13, 13, 64)        0         \n",
      " g2D)                                                            \n",
      "                                                                 \n",
      " dropout (Dropout)           (None, 13, 13, 64)        0         \n",
      "                                                                 \n",
      " flatten (Flatten)           (None, 10816)             0         \n",
      "                                                                 \n",
      " dense (Dense)               (None, 1000)              10817000  \n",
      "                                                                 \n",
      " activation_2 (Activation)   (None, 1000)              0         \n",
      "                                                                 \n",
      " dropout_1 (Dropout)         (None, 1000)              0         \n",
      "                                                                 \n",
      " dense_1 (Dense)             (None, 26)                26026     \n",
      "                                                                 \n",
      "=================================================================\n",
      "Total params: 10896722 (41.57 MB)\n",
      "Trainable params: 10896722 (41.57 MB)\n",
      "Non-trainable params: 0 (0.00 Byte)\n",
      "_________________________________________________________________\n"
     ]
    }
   ],
   "source": [
    "model.summary()"
   ]
  },
  {
   "cell_type": "code",
   "execution_count": 14,
   "metadata": {},
   "outputs": [
    {
     "name": "stdout",
     "output_type": "stream",
     "text": [
      "Training model...\n",
      "Epoch 1/100\n",
      "WARNING:tensorflow:From c:\\Users\\jobin\\anaconda3\\Lib\\site-packages\\keras\\src\\utils\\tf_utils.py:492: The name tf.ragged.RaggedTensorValue is deprecated. Please use tf.compat.v1.ragged.RaggedTensorValue instead.\n",
      "\n",
      "WARNING:tensorflow:From c:\\Users\\jobin\\anaconda3\\Lib\\site-packages\\keras\\src\\engine\\base_layer_utils.py:384: The name tf.executing_eagerly_outside_functions is deprecated. Please use tf.compat.v1.executing_eagerly_outside_functions instead.\n",
      "\n",
      "333/333 [==============================] - ETA: 0s - loss: 2.5603 - accuracy: 0.2390\n",
      "Epoch 1: val_loss improved from inf to 1.67137, saving model to cnn1.h5\n",
      "333/333 [==============================] - 26s 76ms/step - loss: 2.5603 - accuracy: 0.2390 - val_loss: 1.6714 - val_accuracy: 0.4562\n",
      "Epoch 2/100\n",
      "  1/333 [..............................] - ETA: 25s - loss: 2.0908 - accuracy: 0.3594"
     ]
    },
    {
     "name": "stderr",
     "output_type": "stream",
     "text": [
      "c:\\Users\\jobin\\anaconda3\\Lib\\site-packages\\keras\\src\\engine\\training.py:3103: UserWarning: You are saving your model as an HDF5 file via `model.save()`. This file format is considered legacy. We recommend using instead the native Keras format, e.g. `model.save('my_model.keras')`.\n",
      "  saving_api.save_model(\n"
     ]
    },
    {
     "name": "stdout",
     "output_type": "stream",
     "text": [
      "333/333 [==============================] - ETA: 0s - loss: 1.4153 - accuracy: 0.5467\n",
      "Epoch 2: val_loss improved from 1.67137 to 0.92511, saving model to cnn1.h5\n",
      "333/333 [==============================] - 25s 74ms/step - loss: 1.4153 - accuracy: 0.5467 - val_loss: 0.9251 - val_accuracy: 0.7108\n",
      "Epoch 3/100\n",
      "333/333 [==============================] - ETA: 0s - loss: 1.0776 - accuracy: 0.6541\n",
      "Epoch 3: val_loss improved from 0.92511 to 0.74413, saving model to cnn1.h5\n",
      "333/333 [==============================] - 24s 74ms/step - loss: 1.0776 - accuracy: 0.6541 - val_loss: 0.7441 - val_accuracy: 0.7634\n",
      "Epoch 4/100\n",
      "333/333 [==============================] - ETA: 0s - loss: 0.9481 - accuracy: 0.6903\n",
      "Epoch 4: val_loss improved from 0.74413 to 0.64063, saving model to cnn1.h5\n",
      "333/333 [==============================] - 24s 73ms/step - loss: 0.9481 - accuracy: 0.6903 - val_loss: 0.6406 - val_accuracy: 0.7954\n",
      "Epoch 5/100\n",
      "332/333 [============================>.] - ETA: 0s - loss: 0.8232 - accuracy: 0.7341\n",
      "Epoch 5: val_loss improved from 0.64063 to 0.63976, saving model to cnn1.h5\n",
      "333/333 [==============================] - 24s 74ms/step - loss: 0.8233 - accuracy: 0.7342 - val_loss: 0.6398 - val_accuracy: 0.8003\n",
      "Epoch 6/100\n",
      "333/333 [==============================] - ETA: 0s - loss: 0.7821 - accuracy: 0.7455\n",
      "Epoch 6: val_loss did not improve from 0.63976\n",
      "333/333 [==============================] - 25s 74ms/step - loss: 0.7821 - accuracy: 0.7455 - val_loss: 0.6765 - val_accuracy: 0.7695\n",
      "Epoch 7/100\n",
      "333/333 [==============================] - ETA: 0s - loss: 0.6996 - accuracy: 0.7696\n",
      "Epoch 7: val_loss improved from 0.63976 to 0.51195, saving model to cnn1.h5\n",
      "333/333 [==============================] - 24s 74ms/step - loss: 0.6996 - accuracy: 0.7696 - val_loss: 0.5120 - val_accuracy: 0.8240\n",
      "Epoch 8/100\n",
      "333/333 [==============================] - ETA: 0s - loss: 0.6631 - accuracy: 0.7766\n",
      "Epoch 8: val_loss did not improve from 0.51195\n",
      "333/333 [==============================] - 25s 74ms/step - loss: 0.6631 - accuracy: 0.7766 - val_loss: 0.5385 - val_accuracy: 0.8150\n",
      "Epoch 9/100\n",
      "333/333 [==============================] - ETA: 0s - loss: 0.6231 - accuracy: 0.7933\n",
      "Epoch 9: val_loss did not improve from 0.51195\n",
      "333/333 [==============================] - 24s 73ms/step - loss: 0.6231 - accuracy: 0.7933 - val_loss: 0.5791 - val_accuracy: 0.8101\n",
      "Epoch 10/100\n",
      "333/333 [==============================] - ETA: 0s - loss: 0.5900 - accuracy: 0.8041\n",
      "Epoch 10: val_loss improved from 0.51195 to 0.42952, saving model to cnn1.h5\n",
      "333/333 [==============================] - 24s 74ms/step - loss: 0.5900 - accuracy: 0.8041 - val_loss: 0.4295 - val_accuracy: 0.8612\n",
      "Epoch 11/100\n",
      "333/333 [==============================] - ETA: 0s - loss: 0.5536 - accuracy: 0.8171\n",
      "Epoch 11: val_loss did not improve from 0.42952\n",
      "333/333 [==============================] - 25s 74ms/step - loss: 0.5536 - accuracy: 0.8171 - val_loss: 0.4388 - val_accuracy: 0.8526\n",
      "Epoch 12/100\n",
      "333/333 [==============================] - ETA: 0s - loss: 0.5114 - accuracy: 0.8294\n",
      "Epoch 12: val_loss improved from 0.42952 to 0.41674, saving model to cnn1.h5\n",
      "333/333 [==============================] - 25s 75ms/step - loss: 0.5114 - accuracy: 0.8294 - val_loss: 0.4167 - val_accuracy: 0.8680\n",
      "Epoch 13/100\n",
      "333/333 [==============================] - ETA: 0s - loss: 0.5041 - accuracy: 0.8333\n",
      "Epoch 13: val_loss improved from 0.41674 to 0.38820, saving model to cnn1.h5\n",
      "333/333 [==============================] - 24s 73ms/step - loss: 0.5041 - accuracy: 0.8333 - val_loss: 0.3882 - val_accuracy: 0.8714\n",
      "Epoch 14/100\n",
      "333/333 [==============================] - ETA: 0s - loss: 0.4843 - accuracy: 0.8397\n",
      "Epoch 14: val_loss improved from 0.38820 to 0.37533, saving model to cnn1.h5\n",
      "333/333 [==============================] - 24s 73ms/step - loss: 0.4843 - accuracy: 0.8397 - val_loss: 0.3753 - val_accuracy: 0.8736\n",
      "Epoch 15/100\n",
      "333/333 [==============================] - ETA: 0s - loss: 0.4669 - accuracy: 0.8447\n",
      "Epoch 15: val_loss did not improve from 0.37533\n",
      "333/333 [==============================] - 25s 74ms/step - loss: 0.4669 - accuracy: 0.8447 - val_loss: 0.5016 - val_accuracy: 0.8364\n",
      "Epoch 16/100\n",
      "333/333 [==============================] - ETA: 0s - loss: 0.4375 - accuracy: 0.8513\n",
      "Epoch 16: val_loss improved from 0.37533 to 0.33860, saving model to cnn1.h5\n",
      "333/333 [==============================] - 25s 74ms/step - loss: 0.4375 - accuracy: 0.8513 - val_loss: 0.3386 - val_accuracy: 0.8917\n",
      "Epoch 17/100\n",
      "333/333 [==============================] - ETA: 0s - loss: 0.4274 - accuracy: 0.8567\n",
      "Epoch 17: val_loss improved from 0.33860 to 0.33740, saving model to cnn1.h5\n",
      "333/333 [==============================] - 25s 74ms/step - loss: 0.4274 - accuracy: 0.8567 - val_loss: 0.3374 - val_accuracy: 0.8876\n",
      "Epoch 18/100\n",
      "333/333 [==============================] - ETA: 0s - loss: 0.4247 - accuracy: 0.8580\n",
      "Epoch 18: val_loss did not improve from 0.33740\n",
      "333/333 [==============================] - 24s 73ms/step - loss: 0.4247 - accuracy: 0.8580 - val_loss: 0.3887 - val_accuracy: 0.8733\n",
      "Epoch 19/100\n",
      "333/333 [==============================] - ETA: 0s - loss: 0.4079 - accuracy: 0.8637\n",
      "Epoch 19: val_loss did not improve from 0.33740\n",
      "333/333 [==============================] - 24s 73ms/step - loss: 0.4079 - accuracy: 0.8637 - val_loss: 0.3417 - val_accuracy: 0.8902\n",
      "Epoch 20/100\n",
      "333/333 [==============================] - ETA: 0s - loss: 0.3938 - accuracy: 0.8684\n",
      "Epoch 20: val_loss improved from 0.33740 to 0.32077, saving model to cnn1.h5\n",
      "333/333 [==============================] - 24s 73ms/step - loss: 0.3938 - accuracy: 0.8684 - val_loss: 0.3208 - val_accuracy: 0.8958\n",
      "Epoch 21/100\n",
      "333/333 [==============================] - ETA: 0s - loss: 0.3822 - accuracy: 0.8702\n",
      "Epoch 21: val_loss improved from 0.32077 to 0.30900, saving model to cnn1.h5\n",
      "333/333 [==============================] - 24s 73ms/step - loss: 0.3822 - accuracy: 0.8702 - val_loss: 0.3090 - val_accuracy: 0.8921\n",
      "Epoch 22/100\n",
      "333/333 [==============================] - ETA: 0s - loss: 0.3992 - accuracy: 0.8712\n",
      "Epoch 22: val_loss did not improve from 0.30900\n",
      "333/333 [==============================] - 24s 73ms/step - loss: 0.3992 - accuracy: 0.8712 - val_loss: 0.4850 - val_accuracy: 0.8458\n",
      "Epoch 23/100\n",
      "333/333 [==============================] - ETA: 0s - loss: 0.4119 - accuracy: 0.8606\n",
      "Epoch 23: val_loss did not improve from 0.30900\n",
      "333/333 [==============================] - 24s 73ms/step - loss: 0.4119 - accuracy: 0.8606 - val_loss: 0.3460 - val_accuracy: 0.8823\n",
      "Epoch 24/100\n",
      "333/333 [==============================] - ETA: 0s - loss: 0.3778 - accuracy: 0.8753\n",
      "Epoch 24: val_loss improved from 0.30900 to 0.29225, saving model to cnn1.h5\n",
      "333/333 [==============================] - 24s 73ms/step - loss: 0.3778 - accuracy: 0.8753 - val_loss: 0.2922 - val_accuracy: 0.9097\n",
      "Epoch 25/100\n",
      "332/333 [============================>.] - ETA: 0s - loss: 0.3688 - accuracy: 0.8772\n",
      "Epoch 25: val_loss did not improve from 0.29225\n",
      "333/333 [==============================] - 24s 73ms/step - loss: 0.3685 - accuracy: 0.8773 - val_loss: 0.3458 - val_accuracy: 0.8797\n",
      "Epoch 26/100\n",
      "333/333 [==============================] - ETA: 0s - loss: 0.3478 - accuracy: 0.8836\n",
      "Epoch 26: val_loss improved from 0.29225 to 0.28332, saving model to cnn1.h5\n",
      "333/333 [==============================] - 24s 73ms/step - loss: 0.3478 - accuracy: 0.8836 - val_loss: 0.2833 - val_accuracy: 0.9094\n",
      "Epoch 27/100\n",
      "333/333 [==============================] - ETA: 0s - loss: 0.3376 - accuracy: 0.8844\n",
      "Epoch 27: val_loss did not improve from 0.28332\n",
      "333/333 [==============================] - 24s 73ms/step - loss: 0.3376 - accuracy: 0.8844 - val_loss: 0.3345 - val_accuracy: 0.8928\n",
      "Epoch 28/100\n",
      "333/333 [==============================] - ETA: 0s - loss: 0.3323 - accuracy: 0.8896\n",
      "Epoch 28: val_loss did not improve from 0.28332\n",
      "333/333 [==============================] - 24s 73ms/step - loss: 0.3323 - accuracy: 0.8896 - val_loss: 0.2894 - val_accuracy: 0.9064\n",
      "Epoch 29/100\n",
      "333/333 [==============================] - ETA: 0s - loss: 0.3388 - accuracy: 0.8906\n",
      "Epoch 29: val_loss did not improve from 0.28332\n",
      "333/333 [==============================] - 24s 73ms/step - loss: 0.3388 - accuracy: 0.8906 - val_loss: 0.3107 - val_accuracy: 0.8970\n",
      "Epoch 30/100\n",
      "333/333 [==============================] - ETA: 0s - loss: 0.3155 - accuracy: 0.8939\n",
      "Epoch 30: val_loss improved from 0.28332 to 0.25616, saving model to cnn1.h5\n",
      "333/333 [==============================] - 24s 73ms/step - loss: 0.3155 - accuracy: 0.8939 - val_loss: 0.2562 - val_accuracy: 0.9176\n",
      "Epoch 31/100\n",
      "333/333 [==============================] - ETA: 0s - loss: 0.3154 - accuracy: 0.8940\n",
      "Epoch 31: val_loss improved from 0.25616 to 0.25372, saving model to cnn1.h5\n",
      "333/333 [==============================] - 25s 74ms/step - loss: 0.3154 - accuracy: 0.8940 - val_loss: 0.2537 - val_accuracy: 0.9188\n",
      "Epoch 32/100\n",
      "333/333 [==============================] - ETA: 0s - loss: 0.2839 - accuracy: 0.9033\n",
      "Epoch 32: val_loss did not improve from 0.25372\n",
      "333/333 [==============================] - 24s 73ms/step - loss: 0.2839 - accuracy: 0.9033 - val_loss: 0.5673 - val_accuracy: 0.8451\n",
      "Epoch 33/100\n",
      "333/333 [==============================] - ETA: 0s - loss: 0.2879 - accuracy: 0.9017\n",
      "Epoch 33: val_loss did not improve from 0.25372\n",
      "333/333 [==============================] - 27s 80ms/step - loss: 0.2879 - accuracy: 0.9017 - val_loss: 0.2873 - val_accuracy: 0.9049\n",
      "Epoch 34/100\n",
      "333/333 [==============================] - ETA: 0s - loss: 0.2831 - accuracy: 0.9044\n",
      "Epoch 34: val_loss did not improve from 0.25372\n",
      "333/333 [==============================] - 26s 79ms/step - loss: 0.2831 - accuracy: 0.9044 - val_loss: 0.2880 - val_accuracy: 0.9052\n",
      "Epoch 35/100\n",
      "333/333 [==============================] - ETA: 0s - loss: 0.2620 - accuracy: 0.9104\n",
      "Epoch 35: val_loss did not improve from 0.25372\n",
      "333/333 [==============================] - 26s 79ms/step - loss: 0.2620 - accuracy: 0.9104 - val_loss: 0.3119 - val_accuracy: 0.8966\n",
      "Epoch 36/100\n",
      "333/333 [==============================] - ETA: 0s - loss: 0.2677 - accuracy: 0.9096\n",
      "Epoch 36: val_loss did not improve from 0.25372\n",
      "333/333 [==============================] - 25s 75ms/step - loss: 0.2677 - accuracy: 0.9096 - val_loss: 0.2598 - val_accuracy: 0.9176\n",
      "Training finished.\n"
     ]
    },
    {
     "data": {
      "image/png": "[encoded data removed]",
      "text/plain": [
       "<Figure size 1200x600 with 2 Axes>"
      ]
     },
     "metadata": {},
     "output_type": "display_data"
    },
    {
     "name": "stdout",
     "output_type": "stream",
     "text": [
      "84/84 [==============================] - 1s 10ms/step - loss: 0.2370 - accuracy: 0.9218\n",
      "84/84 [==============================] - 1s 9ms/step - loss: 0.2370 - accuracy: 0.9218\n",
      "Test Loss: 0.23698139190673828\n",
      "Test Accuracy: 0.9218044877052307\n",
      "84/84 [==============================] - 1s 9ms/step\n",
      "Confusion Matrix:\n",
      "[[150   0   1  17   0   0   0   0   0   0   0   0   0   0   0   0   0   0\n",
      "    0   0   0   0   0   0   0   0]\n",
      " [  0 197   0   1   0   0   0   0   0   0   0   0   0   0   0   0   0   0\n",
      "    0   0   0   0   0   0   0   0]\n",
      " [  0   0 185   0   0   0   0   0   0   0   0   0   0   0   0   0   0   0\n",
      "    0   0   0   0   0   0   0   0]\n",
      " [  5   0   0 190   0   0   0   1   0   0   0   0   0   0   0   0   0   0\n",
      "    0   0   0   0   0   0   0   0]\n",
      " [  0   0   0   0  45   0   0   1   0   0   0   0   0   0   0   0   0   0\n",
      "    0   0   0   0   0   0   0   0]\n",
      " [  0   0   0   0   0  36   0   1   0   1   0   0   0   0   0   0   0   0\n",
      "    0   0   0   0   0   0   0   0]\n",
      " [  0   0   0   1   1   0  43   2   1   0   0   0   0   0   0   0   0   0\n",
      "    0   0   0   0   0   0   0   0]\n",
      " [  0   0   0   1   1   7   5  26   1   0   0   0   0   0   0   0   0   0\n",
      "    0   0   0   0   0   0   0   0]\n",
      " [  0   0   0   0   0   0   0   0  46   1   0   0   0   0   0   0   0   0\n",
      "    0   0   0   0   0   0   0   0]\n",
      " [  0   0   0   0   0   4   0   0   2  32   0   0   0   0   0   0   0   0\n",
      "    0   0   0   0   0   0   0   0]\n",
      " [  0   0   0   0   0   0   0   0   0   0  84   3   1   0   2   0   0   0\n",
      "    0   0   0   2   1   0   0   0]\n",
      " [  0   0   0   0   0   0   0   0   0   0   0 136   0   0   0   4   0   0\n",
      "    0   0   1   3   0   0   0   0]\n",
      " [  0   0   0   0   0   0   0   0   0   0   0   0 103   0   0   0   0   0\n",
      "    0   0   0   1   0   0   0   0]\n",
      " [  0   0   0   0   0   0   0   0   0   0   0   1   0  12   0   1   0   0\n",
      "    0   0   1   0   0   0   0   0]\n",
      " [  0   0   0   0   0   0   0   0   0   0   0   0   1   0  92   0   0   1\n",
      "    0   1   0   1   0   1   0   0]\n",
      " [  0   0   0   0   0   0   0   0   0   0   0   1   0   0   0 202   0   0\n",
      "    0   0   0   0   0   0   0   0]\n",
      " [  1   0   0   0   0   0   0   0   0   0   0   0   0   0   3   2  85   1\n",
      "    1   0   0   0   1   0   0   0]\n",
      " [  0   0   0   0   0   0   0   0   0   0   1   0   0   0   4   0   1  82\n",
      "    1   1   2   1   4   3   2   1]\n",
      " [  0   0   0   0   0   0   0   0   0   0   0   0   0   0   0   0   0   0\n",
      "   94   0   0   0   0   1   0   0]\n",
      " [  1   2   0   0   0   0   0   0   0   0   1   0   4   0   6   0   0   6\n",
      "    0  72   7   3   1   0   0   0]\n",
      " [  0   0   0   0   0   0   0   1   0   0   2   0   0   0   0   0   0   2\n",
      "    1   0  94   0   4   0   2   0]\n",
      " [  0   0   0   0   0   0   0   0   0   0   0   0   1   0   4   0   0   1\n",
      "    1   0   6  79   0   1   6   0]\n",
      " [  0   0   0   0   0   0   0   0   0   0   0   0   0   0   1   0   0   0\n",
      "    1   0   0   0  87   5   2   0]\n",
      " [  0   0   0   0   0   0   0   0   0   0   0   0   0   0   1   1   0   0\n",
      "    4   0   0   0   4  91   3   0]\n",
      " [  0   0   0   0   0   0   0   0   0   0   0   0   0   0   0   0   0   0\n",
      "    0   0   0   0   0   0 105   0]\n",
      " [  0   0   0   0   0   0   0   0   0   0   0   0   0   0   0   0   3   1\n",
      "    0   0   0   1   5   0   0  84]]\n",
      "\n",
      "Classification Report:\n",
      "              precision    recall  f1-score   support\n",
      "\n",
      "           0       0.96      0.89      0.92       168\n",
      "           1       0.99      0.99      0.99       198\n",
      "           2       0.99      1.00      1.00       185\n",
      "           3       0.90      0.97      0.94       196\n",
      "           4       0.96      0.98      0.97        46\n",
      "           5       0.77      0.95      0.85        38\n",
      "           6       0.90      0.90      0.90        48\n",
      "           7       0.81      0.63      0.71        41\n",
      "           8       0.92      0.98      0.95        47\n",
      "           9       0.94      0.84      0.89        38\n",
      "          10       0.95      0.90      0.93        93\n",
      "          11       0.96      0.94      0.95       144\n",
      "          12       0.94      0.99      0.96       104\n",
      "          13       1.00      0.80      0.89        15\n",
      "          14       0.81      0.95      0.88        97\n",
      "          15       0.96      1.00      0.98       203\n",
      "          16       0.96      0.90      0.93        94\n",
      "          17       0.87      0.80      0.83       103\n",
      "          18       0.91      0.99      0.95        95\n",
      "          19       0.97      0.70      0.81       103\n",
      "          20       0.85      0.89      0.87       106\n",
      "          21       0.87      0.80      0.83        99\n",
      "          22       0.81      0.91      0.86        96\n",
      "          23       0.89      0.88      0.88       104\n",
      "          24       0.88      1.00      0.93       105\n",
      "          25       0.99      0.89      0.94        94\n",
      "\n",
      "    accuracy                           0.92      2660\n",
      "   macro avg       0.91      0.90      0.91      2660\n",
      "weighted avg       0.92      0.92      0.92      2660\n",
      "\n"
     ]
    }
   ],
   "source": [
    "best_model_file = \"cnn1.h5\"\n",
    "best_model = ModelCheckpoint(best_model_file, monitor='val_loss', verbose=1, save_best_only=True)\n",
    "\n",
    "\n",
    "\n",
    "print('Training model...')\n",
    "\n",
    "#history = model.fit(X_train, Y_train, epochs=100, batch_size=64, validation_data=(X_val, Y_val), callbacks=[best_model])\n",
    "\n",
    "history = model.fit(\n",
    "    X_train, Y_train,\n",
    "    epochs=100,\n",
    "    batch_size=64,\n",
    "    validation_data=(X_val, Y_val),\n",
    "    callbacks=[early_stopping, best_model]\n",
    ")\n",
    "\n",
    "print('Training finished.')\n",
    "\n",
    "# Visualize training history\n",
    "plt.figure(figsize=(12, 6))\n",
    "\n",
    "# Plot training & validation accuracy values\n",
    "plt.subplot(1, 2, 1)\n",
    "plt.plot(history.history['accuracy'])\n",
    "plt.plot(history.history['val_accuracy'])\n",
    "plt.title('Model accuracy')\n",
    "plt.xlabel('Epoch')\n",
    "plt.ylabel('Accuracy')\n",
    "plt.legend(['Train', 'Validation'], loc='upper left')\n",
    "\n",
    "# Plot training & validation loss values\n",
    "plt.subplot(1, 2, 2)\n",
    "plt.plot(history.history['loss'])\n",
    "plt.plot(history.history['val_loss'])\n",
    "plt.title('Model loss')\n",
    "plt.xlabel('Epoch')\n",
    "plt.ylabel('Loss')\n",
    "plt.legend(['Train', 'Validation'], loc='upper left')\n",
    "\n",
    "plt.tight_layout()\n",
    "plt.show()\n",
    "\n",
    "# Load the best model\n",
    "model = load_model(best_model_file)\n",
    "\n",
    "# Evaluate the best model on the test set\n",
    "model.evaluate(X_test, Y_test)\n",
    "\n",
    "# Evaluate the best model on the test set and compute accuracy\n",
    "test_loss, test_accuracy = model.evaluate(X_test, Y_test)\n",
    "print(\"Test Loss:\", test_loss)\n",
    "print(\"Test Accuracy:\", test_accuracy)\n",
    "\n",
    "# Make predictions on the test set\n",
    "Y_pred = model.predict(X_test)\n",
    "Y_pred_labels = np.argmax(Y_pred, axis=1)\n",
    "Y_true_labels = np.argmax(Y_test, axis=1)\n",
    "\n",
    "# Compute confusion matrix\n",
    "conf_mat = confusion_matrix(Y_true_labels, Y_pred_labels)\n",
    "\n",
    "# Print confusion matrix\n",
    "print(\"Confusion Matrix:\")\n",
    "print(conf_mat)\n",
    "\n",
    "# Print classification report\n",
    "print(\"\\nClassification Report:\")\n",
    "print(classification_report(Y_true_labels, Y_pred_labels))\n"
   ]
  },
  {
   "cell_type": "code",
   "execution_count": 15,
   "metadata": {},
   "outputs": [
    {
     "name": "stdout",
     "output_type": "stream",
     "text": [
      "INFO:tensorflow:Assets written to: C:\\Users\\jobin\\AppData\\Local\\Temp\\tmp8aglw645\\assets\n"
     ]
    },
    {
     "name": "stderr",
     "output_type": "stream",
     "text": [
      "INFO:tensorflow:Assets written to: C:\\Users\\jobin\\AppData\\Local\\Temp\\tmp8aglw645\\assets\n"
     ]
    }
   ],
   "source": [
    "#convert h5 file to tflite\n",
    "import tensorflow as tf\n",
    "\n",
    "def convert_h5_to_tflite(h5_path, tflite_path):\n",
    "    # Load the model from the HDF5 file\n",
    "    model = tf.keras.models.load_model(h5_path)\n",
    "\n",
    "    # Convert the model to TensorFlow Lite format\n",
    "    converter = tf.lite.TFLiteConverter.from_keras_model(model)\n",
    "    tflite_model = converter.convert()\n",
    "\n",
    "    # Save the TFLite model to a file\n",
    "    with open(tflite_path, 'wb') as f:\n",
    "        f.write(tflite_model)\n",
    "\n",
    "# Specify the paths for your HDF5 and TFLite files\n",
    "h5_file_path = 'cnn1.h5'\n",
    "tflite_file_path = 'cnn1tflite.tflite'\n",
    "\n",
    "# Call the function to convert the HDF5 model to TFLite\n",
    "convert_h5_to_tflite(h5_file_path, tflite_file_path)\n"
   ]
  },
  {
   "cell_type": "code",
   "execution_count": 16,
   "metadata": {},
   "outputs": [
    {
     "data": {
      "text/plain": [
       "'\\n#check file\\nimport tensorflow as tf\\nfrom PIL import Image\\n\\ndef load_and_preprocess_image(image_path, input_shape):\\n    # Load the image using PIL\\n    img = Image.open(image_path)\\n    \\n    # Resize the image to match the expected input shape\\n    img = img.resize((input_shape[1], input_shape[2]))\\n    \\n    # Convert the image to a NumPy array\\n    img_array = tf.keras.preprocessing.image.img_to_array(img)\\n    \\n    # Expand the dimensions to create a batch of size 1\\n    img_array = tf.expand_dims(img_array, 0)\\n    \\n    return img_array\\n\\ndef predict_image_class(image_path, interpreter):\\n    # Load and preprocess the image\\n    input_details = interpreter.get_input_details()\\n    input_shape = input_details[0][\\'shape\\']\\n    img = load_and_preprocess_image(image_path, input_shape)\\n\\n    # Set the input tensor\\n    interpreter.set_tensor(input_details[0][\\'index\\'], img)\\n\\n    # Run the inference\\n    interpreter.invoke()\\n\\n    # Get the output tensor\\n    output_details = interpreter.get_output_details()\\n    output = interpreter.get_tensor(output_details[0][\\'index\\'])\\n\\n    # Process the output (assuming classification task)\\n    predicted_class = tf.argmax(output[0]).numpy()\\n\\n    return predicted_class\\n\\n# Specify the paths for your TFLite model and input image\\ntflite_model_path = \\'converted_model.tflite\\'\\nimage_path = \\'class 25.JPG\\'\\n\\n# Load the TFLite model\\ninterpreter = tf.lite.Interpreter(model_path=tflite_model_path)\\ninterpreter.allocate_tensors()\\n\\n# Call the function to predict the class of the input image\\npredicted_class = predict_image_class(image_path, interpreter)\\nprint(\"Predicted Class:\", predicted_class)\\n'"
      ]
     },
     "execution_count": 16,
     "metadata": {},
     "output_type": "execute_result"
    }
   ],
   "source": [
    "\"\"\"\n",
    "#check file\n",
    "import tensorflow as tf\n",
    "from PIL import Image\n",
    "\n",
    "def load_and_preprocess_image(image_path, input_shape):\n",
    "    # Load the image using PIL\n",
    "    img = Image.open(image_path)\n",
    "    \n",
    "    # Resize the image to match the expected input shape\n",
    "    img = img.resize((input_shape[1], input_shape[2]))\n",
    "    \n",
    "    # Convert the image to a NumPy array\n",
    "    img_array = tf.keras.preprocessing.image.img_to_array(img)\n",
    "    \n",
    "    # Expand the dimensions to create a batch of size 1\n",
    "    img_array = tf.expand_dims(img_array, 0)\n",
    "    \n",
    "    return img_array\n",
    "\n",
    "def predict_image_class(image_path, interpreter):\n",
    "    # Load and preprocess the image\n",
    "    input_details = interpreter.get_input_details()\n",
    "    input_shape = input_details[0]['shape']\n",
    "    img = load_and_preprocess_image(image_path, input_shape)\n",
    "\n",
    "    # Set the input tensor\n",
    "    interpreter.set_tensor(input_details[0]['index'], img)\n",
    "\n",
    "    # Run the inference\n",
    "    interpreter.invoke()\n",
    "\n",
    "    # Get the output tensor\n",
    "    output_details = interpreter.get_output_details()\n",
    "    output = interpreter.get_tensor(output_details[0]['index'])\n",
    "\n",
    "    # Process the output (assuming classification task)\n",
    "    predicted_class = tf.argmax(output[0]).numpy()\n",
    "\n",
    "    return predicted_class\n",
    "\n",
    "# Specify the paths for your TFLite model and input image\n",
    "tflite_model_path = 'converted_model.tflite'\n",
    "image_path = 'class 25.JPG'\n",
    "\n",
    "# Load the TFLite model\n",
    "interpreter = tf.lite.Interpreter(model_path=tflite_model_path)\n",
    "interpreter.allocate_tensors()\n",
    "\n",
    "# Call the function to predict the class of the input image\n",
    "predicted_class = predict_image_class(image_path, interpreter)\n",
    "print(\"Predicted Class:\", predicted_class)\n",
    "\"\"\"\n"
   ]
  }
 ],
 "metadata": {
  "kernelspec": {
   "display_name": "base",
   "language": "python",
   "name": "python3"
  },
  "language_info": {
   "codemirror_mode": {
    "name": "ipython",
    "version": 3
   },
   "file_extension": ".py",
   "mimetype": "text/x-python",
   "name": "python",
   "nbconvert_exporter": "python",
   "pygments_lexer": "ipython3",
   "version": "3.11.5"
  }
 },
 "nbformat": 4,
 "nbformat_minor": 2
}
