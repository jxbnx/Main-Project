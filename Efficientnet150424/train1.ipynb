{
 "cells": [
  {
   "cell_type": "code",
   "execution_count": 1,
   "metadata": {},
   "outputs": [
    {
     "name": "stdout",
     "output_type": "stream",
     "text": [
      "WARNING:tensorflow:From c:\\Users\\jobin\\anaconda3\\Lib\\site-packages\\keras\\src\\losses.py:2976: The name tf.losses.sparse_softmax_cross_entropy is deprecated. Please use tf.compat.v1.losses.sparse_softmax_cross_entropy instead.\n",
      "\n"
     ]
    }
   ],
   "source": [
    "import matplotlib.pyplot as plt\n",
    "%matplotlib inline\n",
    "import pandas as pd\n",
    "import numpy as np\n",
    "import PIL\n",
    "from PIL import Image\n",
    "from skimage.color import rgb2gray\n",
    "from scipy import ndimage as ndi\n",
    "import cv2\n",
    "import os\n",
    "from os import listdir\n",
    "from sklearn.utils import shuffle\n",
    "from sklearn.metrics import confusion_matrix, classification_report\n",
    "\n",
    "import keras\n",
    "from keras.models import Sequential, load_model\n",
    "from keras.layers import Dense, Activation, Conv2D, MaxPooling2D, Flatten, Dropout, BatchNormalization\n",
    "from keras.optimizers import SGD\n",
    "from keras import regularizers\n",
    "from keras.callbacks import ModelCheckpoint,EarlyStopping,ReduceLROnPlateau\n",
    "from keras.optimizers.schedules import ExponentialDecay\n",
    "from tensorflow.keras.applications import EfficientNetB2"
   ]
  },
  {
   "cell_type": "code",
   "execution_count": 2,
   "metadata": {},
   "outputs": [
    {
     "name": "stdout",
     "output_type": "stream",
     "text": [
      "24\n"
     ]
    }
   ],
   "source": [
    "directory_root = \"Dataset\"\n",
    "print(len(listdir(directory_root)))"
   ]
  },
  {
   "cell_type": "code",
   "execution_count": 3,
   "metadata": {},
   "outputs": [
    {
     "name": "stdout",
     "output_type": "stream",
     "text": [
      "[INFO] Loading images ...\n",
      "[INFO] Image loading completed\n"
     ]
    }
   ],
   "source": [
    "image_list, label_list = [], []\n",
    "try:\n",
    "    print(\"[INFO] Loading images ...\")\n",
    "    root_dir = listdir(directory_root)\n",
    "    for directory in root_dir :\n",
    "        # remove .DS_Store from list\n",
    "        if directory == \".DS_Store\" :\n",
    "            root_dir.remove(directory)\n",
    "\n",
    "    for plant_folder in root_dir :\n",
    "        plant_disease_folder_list = listdir(f\"{directory_root}/{plant_folder}\")\n",
    "                \n",
    "        for single_plant_disease_image in plant_disease_folder_list :\n",
    "            if single_plant_disease_image == \".DS_Store\" :\n",
    "                plant_disease_folder_list.remove(single_plant_disease_image)\n",
    "\n",
    "        for image in plant_disease_folder_list:\n",
    "            image_directory = f\"{directory_root}/{plant_folder}/{image}\"\n",
    "            if image_directory.endswith(\".jpg\") == True or image_directory.endswith(\".JPG\") == True:\n",
    "                image_list.append(image_directory)\n",
    "                label_list.append(plant_folder)\n",
    "    print(\"[INFO] Image loading completed\")  \n",
    "except Exception as e:\n",
    "    print(f\"Error : {e}\")"
   ]
  },
  {
   "cell_type": "code",
   "execution_count": 4,
   "metadata": {},
   "outputs": [
    {
     "name": "stdout",
     "output_type": "stream",
     "text": [
      "                                          image_path  \\\n",
      "0  Dataset/Corn_(maize)___Cercospora_leaf_spot Gr...   \n",
      "1  Dataset/Corn_(maize)___Cercospora_leaf_spot Gr...   \n",
      "2  Dataset/Corn_(maize)___Cercospora_leaf_spot Gr...   \n",
      "3  Dataset/Corn_(maize)___Cercospora_leaf_spot Gr...   \n",
      "4  Dataset/Corn_(maize)___Cercospora_leaf_spot Gr...   \n",
      "\n",
      "                                               label  \n",
      "0  Corn_(maize)___Cercospora_leaf_spot Gray_leaf_...  \n",
      "1  Corn_(maize)___Cercospora_leaf_spot Gray_leaf_...  \n",
      "2  Corn_(maize)___Cercospora_leaf_spot Gray_leaf_...  \n",
      "3  Corn_(maize)___Cercospora_leaf_spot Gray_leaf_...  \n",
      "4  Corn_(maize)___Cercospora_leaf_spot Gray_leaf_...  \n",
      "24592\n"
     ]
    }
   ],
   "source": [
    "\n",
    "img_info = pd.DataFrame({'image_path':image_list,'label':label_list})\n",
    "print(img_info.head())\n",
    "print(len(img_info))\n"
   ]
  },
  {
   "cell_type": "code",
   "execution_count": 5,
   "metadata": {},
   "outputs": [
    {
     "data": {
      "text/html": [
       "<div>\n",
       "<style scoped>\n",
       "    .dataframe tbody tr th:only-of-type {\n",
       "        vertical-align: middle;\n",
       "    }\n",
       "\n",
       "    .dataframe tbody tr th {\n",
       "        vertical-align: top;\n",
       "    }\n",
       "\n",
       "    .dataframe thead th {\n",
       "        text-align: right;\n",
       "    }\n",
       "</style>\n",
       "<table border=\"1\" class=\"dataframe\">\n",
       "  <thead>\n",
       "    <tr style=\"text-align: right;\">\n",
       "      <th></th>\n",
       "      <th>image_path</th>\n",
       "      <th>label</th>\n",
       "      <th>labels_integer</th>\n",
       "    </tr>\n",
       "  </thead>\n",
       "  <tbody>\n",
       "    <tr>\n",
       "      <th>24587</th>\n",
       "      <td>Dataset/Tomato___Tomato_Yellow_Leaf_Curl_Virus...</td>\n",
       "      <td>Tomato___Tomato_Yellow_Leaf_Curl_Virus</td>\n",
       "      <td>23</td>\n",
       "    </tr>\n",
       "    <tr>\n",
       "      <th>24588</th>\n",
       "      <td>Dataset/Tomato___Tomato_Yellow_Leaf_Curl_Virus...</td>\n",
       "      <td>Tomato___Tomato_Yellow_Leaf_Curl_Virus</td>\n",
       "      <td>23</td>\n",
       "    </tr>\n",
       "    <tr>\n",
       "      <th>24589</th>\n",
       "      <td>Dataset/Tomato___Tomato_Yellow_Leaf_Curl_Virus...</td>\n",
       "      <td>Tomato___Tomato_Yellow_Leaf_Curl_Virus</td>\n",
       "      <td>23</td>\n",
       "    </tr>\n",
       "    <tr>\n",
       "      <th>24590</th>\n",
       "      <td>Dataset/Tomato___Tomato_Yellow_Leaf_Curl_Virus...</td>\n",
       "      <td>Tomato___Tomato_Yellow_Leaf_Curl_Virus</td>\n",
       "      <td>23</td>\n",
       "    </tr>\n",
       "    <tr>\n",
       "      <th>24591</th>\n",
       "      <td>Dataset/Tomato___Tomato_Yellow_Leaf_Curl_Virus...</td>\n",
       "      <td>Tomato___Tomato_Yellow_Leaf_Curl_Virus</td>\n",
       "      <td>23</td>\n",
       "    </tr>\n",
       "  </tbody>\n",
       "</table>\n",
       "</div>"
      ],
      "text/plain": [
       "                                              image_path  \\\n",
       "24587  Dataset/Tomato___Tomato_Yellow_Leaf_Curl_Virus...   \n",
       "24588  Dataset/Tomato___Tomato_Yellow_Leaf_Curl_Virus...   \n",
       "24589  Dataset/Tomato___Tomato_Yellow_Leaf_Curl_Virus...   \n",
       "24590  Dataset/Tomato___Tomato_Yellow_Leaf_Curl_Virus...   \n",
       "24591  Dataset/Tomato___Tomato_Yellow_Leaf_Curl_Virus...   \n",
       "\n",
       "                                        label labels_integer  \n",
       "24587  Tomato___Tomato_Yellow_Leaf_Curl_Virus             23  \n",
       "24588  Tomato___Tomato_Yellow_Leaf_Curl_Virus             23  \n",
       "24589  Tomato___Tomato_Yellow_Leaf_Curl_Virus             23  \n",
       "24590  Tomato___Tomato_Yellow_Leaf_Curl_Virus             23  \n",
       "24591  Tomato___Tomato_Yellow_Leaf_Curl_Virus             23  "
      ]
     },
     "execution_count": 5,
     "metadata": {},
     "output_type": "execute_result"
    }
   ],
   "source": [
    "#new column (empty)\n",
    "img_info[\"labels_integer\"] = None\n",
    "#index of new column\n",
    "index_labels_integer = img_info.columns.get_loc(\"labels_integer\")\n",
    "#index of species column\n",
    "index_species = img_info.columns.get_loc(\"label\")\n",
    "#to assign numeric labels starting with 0 for the first species\n",
    "k = 0 \n",
    "for i in range(len(img_info)):\n",
    "    if i == 0:\n",
    "        img_info.iloc[i, index_labels_integer] = k #here, k == 0\n",
    "    if i > 0:\n",
    "        if img_info.iloc[i-1, index_species] == img_info.iloc[i, index_species]:\n",
    "            img_info.iloc[i, index_labels_integer] = k\n",
    "        else:\n",
    "            k += 1\n",
    "            img_info.iloc[i, index_labels_integer] = k\n",
    "img_info.tail()"
   ]
  },
  {
   "cell_type": "code",
   "execution_count": 6,
   "metadata": {},
   "outputs": [
    {
     "name": "stderr",
     "output_type": "stream",
     "text": [
      "C:\\Users\\jobin\\AppData\\Local\\Temp\\ipykernel_3456\\2472196027.py:8: DeprecationWarning: ANTIALIAS is deprecated and will be removed in Pillow 10 (2023-07-01). Use LANCZOS or Resampling.LANCZOS instead.\n",
      "  img = img.resize(size, PIL.Image.ANTIALIAS)\n"
     ]
    },
    {
     "name": "stdout",
     "output_type": "stream",
     "text": [
      "24592\n"
     ]
    }
   ],
   "source": [
    "img_info = shuffle(img_info)\n",
    "list_vectors = []\n",
    "\n",
    "for image_path in img_info.image_path:\n",
    "    #read as rgb array\n",
    "    img = Image.open(image_path)\n",
    "    size = (64, 64)\n",
    "    img = img.resize(size, PIL.Image.ANTIALIAS)  \n",
    "    img_array = np.array(img)\n",
    "    #append image vector to list\n",
    "    list_vectors.append(img_array)\n",
    "    \n",
    "print(len(list_vectors))"
   ]
  },
  {
   "cell_type": "code",
   "execution_count": 7,
   "metadata": {},
   "outputs": [
    {
     "name": "stdout",
     "output_type": "stream",
     "text": [
      "(24592, 64, 64, 3)\n"
     ]
    }
   ],
   "source": [
    "X = np.stack((list_vectors))\n",
    "Y =  img_info['labels_integer']\n",
    "print(X.shape)"
   ]
  },
  {
   "cell_type": "code",
   "execution_count": 8,
   "metadata": {},
   "outputs": [
    {
     "name": "stdout",
     "output_type": "stream",
     "text": [
      "(24592,) (24592, 24)\n"
     ]
    }
   ],
   "source": [
    "X = X/255\n",
    "Y_one_hot = keras.utils.to_categorical(Y, num_classes=len(listdir(directory_root)))\n",
    "print(Y.shape, Y_one_hot.shape)"
   ]
  },
  {
   "cell_type": "code",
   "execution_count": 11,
   "metadata": {},
   "outputs": [
    {
     "name": "stdout",
     "output_type": "stream",
     "text": [
      "(19673, 64, 64, 3) (2459, 64, 64, 3) (2460, 64, 64, 3) (19673, 24) (2459, 24) (2460, 24)\n"
     ]
    }
   ],
   "source": [
    "split_train = 0.8 #train 0.8, validate 0.1, test 0.1\n",
    "split_val = 0.9\n",
    "index_train = int(split_train*len(X))\n",
    "index_val = int(split_val*len(X))\n",
    "\n",
    "X_train = X[:index_train]\n",
    "X_val = X[index_train:index_val]\n",
    "X_test = X[index_val:]\n",
    "\n",
    "Y_train = Y_one_hot[:index_train]\n",
    "Y_val = Y_one_hot[index_train:index_val]\n",
    "Y_test = Y_one_hot[index_val:]\n",
    "\n",
    "print(X_train.shape, X_val.shape, X_test.shape, Y_train.shape, Y_val.shape, Y_test.shape)"
   ]
  },
  {
   "cell_type": "code",
   "execution_count": 12,
   "metadata": {},
   "outputs": [
    {
     "name": "stdout",
     "output_type": "stream",
     "text": [
      "WARNING:tensorflow:From c:\\Users\\jobin\\anaconda3\\Lib\\site-packages\\keras\\src\\backend.py:873: The name tf.get_default_graph is deprecated. Please use tf.compat.v1.get_default_graph instead.\n",
      "\n",
      "WARNING:tensorflow:From c:\\Users\\jobin\\anaconda3\\Lib\\site-packages\\keras\\src\\layers\\normalization\\batch_normalization.py:979: The name tf.nn.fused_batch_norm is deprecated. Please use tf.compat.v1.nn.fused_batch_norm instead.\n",
      "\n"
     ]
    },
    {
     "name": "stderr",
     "output_type": "stream",
     "text": [
      "WARNING:absl:`lr` is deprecated in Keras optimizer, please use `learning_rate` or use the legacy optimizer, e.g.,tf.keras.optimizers.legacy.Adam.\n"
     ]
    }
   ],
   "source": [
    "import tensorflow as tf\n",
    "from tensorflow.keras import layers, models\n",
    "from tensorflow.keras.applications import EfficientNetB3\n",
    "from tensorflow.keras.optimizers import Adam\n",
    "\n",
    "input_shape = (X_train.shape[1], X_train.shape[2], X_train.shape[3])\n",
    "num_classes = len(listdir(directory_root))\n",
    "\n",
    "model = models.Sequential()\n",
    "model.add(EfficientNetB3(include_top=False, weights='imagenet', input_shape=input_shape, drop_connect_rate=0.3))\n",
    "\n",
    "model.add(layers.GlobalAveragePooling2D())\n",
    "model.add(layers.Flatten())\n",
    "model.add(layers.Dense(256, activation=\"relu\"))\n",
    "model.add(layers.Dropout(0.3))\n",
    "model.add(layers.Dense(num_classes, activation='softmax'))\n",
    "\n",
    "model.compile(\n",
    "    optimizer=Adam(lr=1e-4),\n",
    "    loss='categorical_crossentropy',\n",
    "    metrics=[\"accuracy\"]\n",
    ")\n",
    "\n",
    "rlronp = tf.keras.callbacks.ReduceLROnPlateau(monitor=\"val_loss\",\n",
    "                                              factor=0.2,\n",
    "                                              mode=\"min\",\n",
    "                                              min_lr=1e-6,\n",
    "                                              patience=2,\n",
    "                                              verbose=1)\n",
    "\n",
    "estop = tf.keras.callbacks.EarlyStopping(monitor=\"val_loss\",\n",
    "                                         mode=\"min\",\n",
    "                                         patience=3,\n",
    "                                         verbose=1,\n",
    "                                         restore_best_weights=True)"
   ]
  },
  {
   "cell_type": "code",
   "execution_count": 13,
   "metadata": {},
   "outputs": [
    {
     "name": "stdout",
     "output_type": "stream",
     "text": [
      "Model: \"sequential\"\n",
      "_________________________________________________________________\n",
      " Layer (type)                Output Shape              Param #   \n",
      "=================================================================\n",
      " efficientnetb3 (Functional  (None, 2, 2, 1536)        10783535  \n",
      " )                                                               \n",
      "                                                                 \n",
      " global_average_pooling2d (  (None, 1536)              0         \n",
      " GlobalAveragePooling2D)                                         \n",
      "                                                                 \n",
      " flatten (Flatten)           (None, 1536)              0         \n",
      "                                                                 \n",
      " dense (Dense)               (None, 256)               393472    \n",
      "                                                                 \n",
      " dropout (Dropout)           (None, 256)               0         \n",
      "                                                                 \n",
      " dense_1 (Dense)             (None, 24)                6168      \n",
      "                                                                 \n",
      "=================================================================\n",
      "Total params: 11183175 (42.66 MB)\n",
      "Trainable params: 11095872 (42.33 MB)\n",
      "Non-trainable params: 87303 (341.03 KB)\n",
      "_________________________________________________________________\n"
     ]
    }
   ],
   "source": [
    "model.summary()"
   ]
  },
  {
   "cell_type": "code",
   "execution_count": 14,
   "metadata": {},
   "outputs": [
    {
     "name": "stdout",
     "output_type": "stream",
     "text": [
      "Training model...\n",
      "Epoch 1/100\n",
      "WARNING:tensorflow:From c:\\Users\\jobin\\anaconda3\\Lib\\site-packages\\keras\\src\\utils\\tf_utils.py:492: The name tf.ragged.RaggedTensorValue is deprecated. Please use tf.compat.v1.ragged.RaggedTensorValue instead.\n",
      "\n"
     ]
    },
    {
     "name": "stderr",
     "output_type": "stream",
     "text": [
      "WARNING:tensorflow:From c:\\Users\\jobin\\anaconda3\\Lib\\site-packages\\keras\\src\\utils\\tf_utils.py:492: The name tf.ragged.RaggedTensorValue is deprecated. Please use tf.compat.v1.ragged.RaggedTensorValue instead.\n",
      "\n"
     ]
    },
    {
     "name": "stdout",
     "output_type": "stream",
     "text": [
      "WARNING:tensorflow:From c:\\Users\\jobin\\anaconda3\\Lib\\site-packages\\keras\\src\\engine\\base_layer_utils.py:384: The name tf.executing_eagerly_outside_functions is deprecated. Please use tf.compat.v1.executing_eagerly_outside_functions instead.\n",
      "\n"
     ]
    },
    {
     "name": "stderr",
     "output_type": "stream",
     "text": [
      "WARNING:tensorflow:From c:\\Users\\jobin\\anaconda3\\Lib\\site-packages\\keras\\src\\engine\\base_layer_utils.py:384: The name tf.executing_eagerly_outside_functions is deprecated. Please use tf.compat.v1.executing_eagerly_outside_functions instead.\n",
      "\n"
     ]
    },
    {
     "name": "stdout",
     "output_type": "stream",
     "text": [
      "308/308 [==============================] - ETA: 0s - loss: 0.6757 - accuracy: 0.7934\n",
      "Epoch 1: val_loss improved from inf to 4.89263, saving model to efnetb3_m1_h5.h5\n"
     ]
    },
    {
     "name": "stderr",
     "output_type": "stream",
     "text": [
      "c:\\Users\\jobin\\anaconda3\\Lib\\site-packages\\keras\\src\\engine\\training.py:3103: UserWarning: You are saving your model as an HDF5 file via `model.save()`. This file format is considered legacy. We recommend using instead the native Keras format, e.g. `model.save('my_model.keras')`.\n",
      "  saving_api.save_model(\n"
     ]
    },
    {
     "name": "stdout",
     "output_type": "stream",
     "text": [
      "308/308 [==============================] - 168s 467ms/step - loss: 0.6757 - accuracy: 0.7934 - val_loss: 4.8926 - val_accuracy: 0.0659 - lr: 0.0010\n",
      "Epoch 2/100\n",
      "308/308 [==============================] - ETA: 0s - loss: 0.2403 - accuracy: 0.9231\n",
      "Epoch 2: val_loss did not improve from 4.89263\n",
      "308/308 [==============================] - 141s 459ms/step - loss: 0.2403 - accuracy: 0.9231 - val_loss: 11.2926 - val_accuracy: 0.0704 - lr: 0.0010\n",
      "Epoch 3/100\n",
      "308/308 [==============================] - ETA: 0s - loss: 0.1634 - accuracy: 0.9454\n",
      "Epoch 3: val_loss improved from 4.89263 to 3.91803, saving model to efnetb3_m1_h5.h5\n",
      "308/308 [==============================] - 141s 459ms/step - loss: 0.1634 - accuracy: 0.9454 - val_loss: 3.9180 - val_accuracy: 0.0773 - lr: 0.0010\n",
      "Epoch 4/100\n",
      "308/308 [==============================] - ETA: 0s - loss: 0.1346 - accuracy: 0.9581\n",
      "Epoch 4: val_loss did not improve from 3.91803\n",
      "308/308 [==============================] - 140s 455ms/step - loss: 0.1346 - accuracy: 0.9581 - val_loss: 4.7906 - val_accuracy: 0.0427 - lr: 0.0010\n",
      "Epoch 5/100\n",
      "308/308 [==============================] - ETA: 0s - loss: 0.1280 - accuracy: 0.9595\n",
      "Epoch 5: ReduceLROnPlateau reducing learning rate to 0.00020000000949949026.\n",
      "\n",
      "Epoch 5: val_loss did not improve from 3.91803\n",
      "308/308 [==============================] - 141s 459ms/step - loss: 0.1280 - accuracy: 0.9595 - val_loss: 6.8585 - val_accuracy: 0.0545 - lr: 0.0010\n",
      "Epoch 6/100\n",
      "308/308 [==============================] - ETA: 0s - loss: 0.0551 - accuracy: 0.9826\n",
      "Epoch 6: val_loss improved from 3.91803 to 2.78186, saving model to efnetb3_m1_h5.h5\n",
      "308/308 [==============================] - 143s 463ms/step - loss: 0.0551 - accuracy: 0.9826 - val_loss: 2.7819 - val_accuracy: 0.3835 - lr: 2.0000e-04\n",
      "Epoch 7/100\n",
      "308/308 [==============================] - ETA: 0s - loss: 0.0263 - accuracy: 0.9911\n",
      "Epoch 7: val_loss improved from 2.78186 to 0.63438, saving model to efnetb3_m1_h5.h5\n",
      "308/308 [==============================] - 143s 465ms/step - loss: 0.0263 - accuracy: 0.9911 - val_loss: 0.6344 - val_accuracy: 0.8369 - lr: 2.0000e-04\n",
      "Epoch 8/100\n",
      "308/308 [==============================] - ETA: 0s - loss: 0.0237 - accuracy: 0.9918\n",
      "Epoch 8: val_loss did not improve from 0.63438\n",
      "308/308 [==============================] - 141s 456ms/step - loss: 0.0237 - accuracy: 0.9918 - val_loss: 2.8667 - val_accuracy: 0.3538 - lr: 2.0000e-04\n",
      "Epoch 9/100\n",
      "308/308 [==============================] - ETA: 0s - loss: 0.0178 - accuracy: 0.9941\n",
      "Epoch 9: ReduceLROnPlateau reducing learning rate to 4.0000001899898055e-05.\n",
      "\n",
      "Epoch 9: val_loss did not improve from 0.63438\n",
      "308/308 [==============================] - 141s 457ms/step - loss: 0.0178 - accuracy: 0.9941 - val_loss: 4.1614 - val_accuracy: 0.2538 - lr: 2.0000e-04\n",
      "Epoch 10/100\n",
      "308/308 [==============================] - ETA: 0s - loss: 0.0124 - accuracy: 0.9960\n",
      "Epoch 10: val_loss improved from 0.63438 to 0.42542, saving model to efnetb3_m1_h5.h5\n",
      "308/308 [==============================] - 141s 457ms/step - loss: 0.0124 - accuracy: 0.9960 - val_loss: 0.4254 - val_accuracy: 0.8906 - lr: 4.0000e-05\n",
      "Epoch 11/100\n",
      "308/308 [==============================] - ETA: 0s - loss: 0.0101 - accuracy: 0.9972\n",
      "Epoch 11: val_loss did not improve from 0.42542\n",
      "308/308 [==============================] - 152s 493ms/step - loss: 0.0101 - accuracy: 0.9972 - val_loss: 0.5846 - val_accuracy: 0.8776 - lr: 4.0000e-05\n",
      "Epoch 12/100\n",
      "308/308 [==============================] - ETA: 0s - loss: 0.0104 - accuracy: 0.9970\n",
      "Epoch 12: ReduceLROnPlateau reducing learning rate to 8.000000525498762e-06.\n",
      "\n",
      "Epoch 12: val_loss did not improve from 0.42542\n",
      "308/308 [==============================] - 149s 485ms/step - loss: 0.0104 - accuracy: 0.9970 - val_loss: 0.7797 - val_accuracy: 0.8325 - lr: 4.0000e-05\n",
      "Epoch 13/100\n",
      "308/308 [==============================] - ETA: 0s - loss: 0.0079 - accuracy: 0.9972\n",
      "Epoch 13: val_loss improved from 0.42542 to 0.04947, saving model to efnetb3_m1_h5.h5\n",
      "308/308 [==============================] - 141s 459ms/step - loss: 0.0079 - accuracy: 0.9972 - val_loss: 0.0495 - val_accuracy: 0.9837 - lr: 8.0000e-06\n",
      "Epoch 14/100\n",
      "308/308 [==============================] - ETA: 0s - loss: 0.0070 - accuracy: 0.9977\n",
      "Epoch 14: val_loss improved from 0.04947 to 0.04256, saving model to efnetb3_m1_h5.h5\n",
      "308/308 [==============================] - 142s 462ms/step - loss: 0.0070 - accuracy: 0.9977 - val_loss: 0.0426 - val_accuracy: 0.9850 - lr: 8.0000e-06\n",
      "Epoch 15/100\n",
      "308/308 [==============================] - ETA: 0s - loss: 0.0073 - accuracy: 0.9976\n",
      "Epoch 15: val_loss did not improve from 0.04256\n",
      "308/308 [==============================] - 141s 459ms/step - loss: 0.0073 - accuracy: 0.9976 - val_loss: 0.0507 - val_accuracy: 0.9845 - lr: 8.0000e-06\n",
      "Epoch 16/100\n",
      "308/308 [==============================] - ETA: 0s - loss: 0.0058 - accuracy: 0.9984\n",
      "Epoch 16: ReduceLROnPlateau reducing learning rate to 1.6000001778593287e-06.\n",
      "\n",
      "Epoch 16: val_loss did not improve from 0.04256\n",
      "308/308 [==============================] - 141s 459ms/step - loss: 0.0058 - accuracy: 0.9984 - val_loss: 0.0460 - val_accuracy: 0.9845 - lr: 8.0000e-06\n",
      "Epoch 17/100\n",
      "308/308 [==============================] - ETA: 0s - loss: 0.0070 - accuracy: 0.9976Restoring model weights from the end of the best epoch: 14.\n",
      "\n",
      "Epoch 17: val_loss did not improve from 0.04256\n",
      "308/308 [==============================] - 140s 454ms/step - loss: 0.0070 - accuracy: 0.9976 - val_loss: 0.0462 - val_accuracy: 0.9870 - lr: 1.6000e-06\n",
      "Epoch 17: early stopping\n",
      "Training finished.\n"
     ]
    },
    {
     "data": {
      "image/png": "[encoded data removed]",
      "text/plain": [
       "<Figure size 1200x600 with 2 Axes>"
      ]
     },
     "metadata": {},
     "output_type": "display_data"
    },
    {
     "name": "stdout",
     "output_type": "stream",
     "text": [
      "77/77 [==============================] - 7s 66ms/step - loss: 0.0371 - accuracy: 0.9878\n",
      "77/77 [==============================] - 5s 65ms/step - loss: 0.0371 - accuracy: 0.9878\n",
      "Test Loss: 0.03712482377886772\n",
      "Test Accuracy: 0.9878048896789551\n",
      "77/77 [==============================] - 7s 66ms/step\n",
      "Confusion Matrix:\n",
      "[[154   0   0   1   0   0   0   0   0   0   0   0   0   0   0   0   0   0\n",
      "    0   0   0   0   0   0]\n",
      " [  0 198   0   0   0   0   0   0   0   0   0   0   0   0   0   0   0   0\n",
      "    0   0   0   0   0   0]\n",
      " [  0   0 199   0   0   0   0   0   0   0   0   0   0   0   0   0   0   0\n",
      "    0   0   0   0   0   0]\n",
      " [  5   0   0 179   0   0   0   0   0   0   0   0   0   0   0   0   0   0\n",
      "    0   0   0   0   0   0]\n",
      " [  0   0   0   0  40   0   0   0   0   0   0   0   0   0   0   0   0   0\n",
      "    0   0   0   0   0   0]\n",
      " [  1   0   0   0   0  50   1   5   0   1   0   0   0   0   0   0   0   0\n",
      "    0   0   0   0   0   0]\n",
      " [  0   0   0   0   0   0  30   0   0   0   0   0   0   0   0   0   0   0\n",
      "    0   0   0   0   0   0]\n",
      " [  0   0   0   0   0   3   0  34   0   0   0   0   0   0   0   0   0   0\n",
      "    0   0   0   0   0   0]\n",
      " [  0   0   0   0   0   0   0   0  37   0   0   0   0   0   0   0   0   0\n",
      "    0   0   0   0   0   0]\n",
      " [  0   0   0   0   0   2   0   0   0  31   0   0   0   0   0   0   0   0\n",
      "    0   0   0   0   0   0]\n",
      " [  0   0   0   0   0   0   0   0   0   0 110   0   0   0   0   0   0   0\n",
      "    0   0   0   0   0   0]\n",
      " [  0   0   0   0   0   0   0   0   0   0   0 158   0   0   0   0   0   0\n",
      "    0   0   0   0   0   0]\n",
      " [  0   0   0   0   0   0   0   0   0   0   0   0  97   0   0   0   0   0\n",
      "    0   0   0   0   0   0]\n",
      " [  0   0   0   0   0   0   0   0   0   0   0   0   0  20   1   0   0   0\n",
      "    0   0   0   0   0   0]\n",
      " [  0   0   0   0   0   0   0   0   0   0   0   0   0   0  78   0   0   0\n",
      "    0   0   0   0   0   0]\n",
      " [  0   0   0   0   0   0   0   0   0   0   0   0   0   0   0 190   0   0\n",
      "    0   0   0   0   0   0]\n",
      " [  0   0   0   0   0   0   0   0   0   0   0   0   1   0   0   0 100   0\n",
      "    0   0   0   0   0   0]\n",
      " [  0   0   0   0   0   0   0   0   0   0   0   0   0   0   0   0   0 113\n",
      "    0   0   0   1   0   0]\n",
      " [  0   0   0   0   0   0   0   0   0   0   0   0   0   0   0   0   0   0\n",
      "  104   0   1   0   0   0]\n",
      " [  0   0   0   0   0   0   0   0   0   0   0   0   0   0   0   0   0   0\n",
      "    0 108   0   0   0   0]\n",
      " [  0   0   0   0   0   0   0   0   0   0   0   0   0   0   0   0   0   0\n",
      "    0   0  97   1   0   0]\n",
      " [  0   0   0   0   0   0   0   0   0   0   0   0   0   0   0   0   0   0\n",
      "    0   0   2  97   0   0]\n",
      " [  0   0   0   0   0   0   0   0   0   0   0   0   0   0   0   0   0   0\n",
      "    0   0   0   0 115   0]\n",
      " [  0   0   0   0   0   0   0   0   0   0   0   0   0   0   0   0   4   0\n",
      "    0   0   0   0   0  91]]\n",
      "\n",
      "Classification Report:\n",
      "              precision    recall  f1-score   support\n",
      "\n",
      "           0       0.96      0.99      0.98       155\n",
      "           1       1.00      1.00      1.00       198\n",
      "           2       1.00      1.00      1.00       199\n",
      "           3       0.99      0.97      0.98       184\n",
      "           4       1.00      1.00      1.00        40\n",
      "           5       0.91      0.86      0.88        58\n",
      "           6       0.97      1.00      0.98        30\n",
      "           7       0.87      0.92      0.89        37\n",
      "           8       1.00      1.00      1.00        37\n",
      "           9       0.97      0.94      0.95        33\n",
      "          10       1.00      1.00      1.00       110\n",
      "          11       1.00      1.00      1.00       158\n",
      "          12       0.99      1.00      0.99        97\n",
      "          13       1.00      0.95      0.98        21\n",
      "          14       0.99      1.00      0.99        78\n",
      "          15       1.00      1.00      1.00       190\n",
      "          16       0.96      0.99      0.98       101\n",
      "          17       1.00      0.99      1.00       114\n",
      "          18       1.00      0.99      1.00       105\n",
      "          19       1.00      1.00      1.00       108\n",
      "          20       0.97      0.99      0.98        98\n",
      "          21       0.98      0.98      0.98        99\n",
      "          22       1.00      1.00      1.00       115\n",
      "          23       1.00      0.96      0.98        95\n",
      "\n",
      "    accuracy                           0.99      2460\n",
      "   macro avg       0.98      0.98      0.98      2460\n",
      "weighted avg       0.99      0.99      0.99      2460\n",
      "\n"
     ]
    }
   ],
   "source": [
    "# Model Checkpoint\n",
    "best_model_file = \"efnetb3_m1_h5.h5\"\n",
    "best_model = ModelCheckpoint(best_model_file, monitor='val_loss', verbose=1, save_best_only=True)\n",
    "\n",
    "print('Training model...')\n",
    "history = model.fit(\n",
    "    X_train, Y_train,\n",
    "    epochs=100,\n",
    "    batch_size=64,\n",
    "    validation_data=(X_val, Y_val),\n",
    "    callbacks=[rlronp, estop, best_model]\n",
    ")\n",
    "\n",
    "print('Training finished.')\n",
    "\n",
    "# Visualize training history\n",
    "plt.figure(figsize=(12, 6))\n",
    "\n",
    "# Plot training & validation accuracy values\n",
    "plt.subplot(1, 2, 1)\n",
    "plt.plot(history.history['accuracy'])\n",
    "plt.plot(history.history['val_accuracy'])\n",
    "plt.title('Model accuracy')\n",
    "plt.xlabel('Epoch')\n",
    "plt.ylabel('Accuracy')\n",
    "plt.legend(['Train', 'Validation'], loc='upper left')\n",
    "\n",
    "# Plot training & validation loss values\n",
    "plt.subplot(1, 2, 2)\n",
    "plt.plot(history.history['loss'])\n",
    "plt.plot(history.history['val_loss'])\n",
    "plt.title('Model loss')\n",
    "plt.xlabel('Epoch')\n",
    "plt.ylabel('Loss')\n",
    "plt.legend(['Train', 'Validation'], loc='upper left')\n",
    "\n",
    "plt.tight_layout()\n",
    "plt.show()\n",
    "\n",
    "# Load the best model\n",
    "model = load_model(best_model_file)\n",
    "\n",
    "# Evaluate the best model on the test set\n",
    "model.evaluate(X_test, Y_test)\n",
    "\n",
    "# Evaluate the best model on the test set and compute accuracy\n",
    "test_loss, test_accuracy = model.evaluate(X_test, Y_test)\n",
    "print(\"Test Loss:\", test_loss)\n",
    "print(\"Test Accuracy:\", test_accuracy)\n",
    "\n",
    "# Make predictions on the test set\n",
    "Y_pred = model.predict(X_test)\n",
    "Y_pred_labels = np.argmax(Y_pred, axis=1)\n",
    "Y_true_labels = np.argmax(Y_test, axis=1)\n",
    "\n",
    "# Compute confusion matrix\n",
    "conf_mat = confusion_matrix(Y_true_labels, Y_pred_labels)\n",
    "\n",
    "# Print confusion matrix\n",
    "print(\"Confusion Matrix:\")\n",
    "print(conf_mat)\n",
    "\n",
    "# Print classification report\n",
    "print(\"\\nClassification Report:\")\n",
    "print(classification_report(Y_true_labels, Y_pred_labels))\n"
   ]
  },
  {
   "cell_type": "code",
   "execution_count": 15,
   "metadata": {},
   "outputs": [
    {
     "name": "stdout",
     "output_type": "stream",
     "text": [
      "INFO:tensorflow:Assets written to: C:\\Users\\jobin\\AppData\\Local\\Temp\\tmpqwj1626m\\assets\n"
     ]
    },
    {
     "name": "stderr",
     "output_type": "stream",
     "text": [
      "INFO:tensorflow:Assets written to: C:\\Users\\jobin\\AppData\\Local\\Temp\\tmpqwj1626m\\assets\n"
     ]
    }
   ],
   "source": [
    "import tensorflow as tf\n",
    "\n",
    "def convert_h5_to_tflite(h5_path, tflite_path):\n",
    "    # Load the model from the HDF5 file\n",
    "    model = tf.keras.models.load_model(h5_path)\n",
    "\n",
    "    # Convert the model to TensorFlow Lite format\n",
    "    converter = tf.lite.TFLiteConverter.from_keras_model(model)\n",
    "    tflite_model = converter.convert()\n",
    "\n",
    "    # Save the TFLite model to a file\n",
    "    with open(tflite_path, 'wb') as f:\n",
    "        f.write(tflite_model)\n",
    "\n",
    "# Specify the paths for your HDF5 and TFLite files\n",
    "h5_file_path = 'efnetb3_m1_h5.h5'\n",
    "tflite_file_path = 'efnetb3_m1_tflite.tflite'\n",
    "\n",
    "# Call the function to convert the HDF5 model to TFLite\n",
    "convert_h5_to_tflite(h5_file_path, tflite_file_path)\n"
   ]
  }
 ],
 "metadata": {
  "kernelspec": {
   "display_name": "base",
   "language": "python",
   "name": "python3"
  },
  "language_info": {
   "codemirror_mode": {
    "name": "ipython",
    "version": 3
   },
   "file_extension": ".py",
   "mimetype": "text/x-python",
   "name": "python",
   "nbconvert_exporter": "python",
   "pygments_lexer": "ipython3",
   "version": "3.11.5"
  }
 },
 "nbformat": 4,
 "nbformat_minor": 2
}
