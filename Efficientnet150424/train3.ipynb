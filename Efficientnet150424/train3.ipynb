{
 "cells": [
  {
   "cell_type": "code",
   "execution_count": 1,
   "metadata": {},
   "outputs": [
    {
     "name": "stdout",
     "output_type": "stream",
     "text": [
      "WARNING:tensorflow:From c:\\Users\\jobin\\anaconda3\\Lib\\site-packages\\keras\\src\\losses.py:2976: The name tf.losses.sparse_softmax_cross_entropy is deprecated. Please use tf.compat.v1.losses.sparse_softmax_cross_entropy instead.\n",
      "\n"
     ]
    }
   ],
   "source": [
    "import matplotlib.pyplot as plt\n",
    "%matplotlib inline\n",
    "import pandas as pd\n",
    "import numpy as np\n",
    "import PIL\n",
    "from PIL import Image\n",
    "from skimage.color import rgb2gray\n",
    "from scipy import ndimage as ndi\n",
    "import cv2\n",
    "import os\n",
    "from os import listdir\n",
    "from sklearn.utils import shuffle\n",
    "from sklearn.metrics import confusion_matrix, classification_report\n",
    "\n",
    "import keras\n",
    "from keras.models import Sequential, load_model\n",
    "from keras.layers import Dense, Activation, Conv2D, MaxPooling2D, Flatten, Dropout, BatchNormalization\n",
    "from keras.optimizers import SGD\n",
    "from keras import regularizers\n",
    "from keras.callbacks import ModelCheckpoint,EarlyStopping,ReduceLROnPlateau\n",
    "from keras.optimizers.schedules import ExponentialDecay\n",
    "from tensorflow.keras.applications import EfficientNetB2"
   ]
  },
  {
   "cell_type": "code",
   "execution_count": 2,
   "metadata": {},
   "outputs": [
    {
     "name": "stdout",
     "output_type": "stream",
     "text": [
      "26\n"
     ]
    }
   ],
   "source": [
    "directory_root = \"Dataset\"\n",
    "print(len(listdir(directory_root)))"
   ]
  },
  {
   "cell_type": "code",
   "execution_count": 3,
   "metadata": {},
   "outputs": [
    {
     "name": "stdout",
     "output_type": "stream",
     "text": [
      "[INFO] Loading images ...\n",
      "[INFO] Image loading completed\n"
     ]
    }
   ],
   "source": [
    "image_list, label_list = [], []\n",
    "try:\n",
    "    print(\"[INFO] Loading images ...\")\n",
    "    root_dir = listdir(directory_root)\n",
    "    for directory in root_dir :\n",
    "        # remove .DS_Store from list\n",
    "        if directory == \".DS_Store\" :\n",
    "            root_dir.remove(directory)\n",
    "\n",
    "    for plant_folder in root_dir :\n",
    "        plant_disease_folder_list = listdir(f\"{directory_root}/{plant_folder}\")\n",
    "                \n",
    "        for single_plant_disease_image in plant_disease_folder_list :\n",
    "            if single_plant_disease_image == \".DS_Store\" :\n",
    "                plant_disease_folder_list.remove(single_plant_disease_image)\n",
    "\n",
    "        for image in plant_disease_folder_list:\n",
    "            image_directory = f\"{directory_root}/{plant_folder}/{image}\"\n",
    "            if image_directory.endswith(\".jpg\") == True or image_directory.endswith(\".JPG\") == True:\n",
    "                image_list.append(image_directory)\n",
    "                label_list.append(plant_folder)\n",
    "    print(\"[INFO] Image loading completed\")  \n",
    "except Exception as e:\n",
    "    print(f\"Error : {e}\")"
   ]
  },
  {
   "cell_type": "code",
   "execution_count": 4,
   "metadata": {},
   "outputs": [
    {
     "name": "stdout",
     "output_type": "stream",
     "text": [
      "                                          image_path  \\\n",
      "0  Dataset/Corn_(maize)___Cercospora_leaf_spot Gr...   \n",
      "1  Dataset/Corn_(maize)___Cercospora_leaf_spot Gr...   \n",
      "2  Dataset/Corn_(maize)___Cercospora_leaf_spot Gr...   \n",
      "3  Dataset/Corn_(maize)___Cercospora_leaf_spot Gr...   \n",
      "4  Dataset/Corn_(maize)___Cercospora_leaf_spot Gr...   \n",
      "\n",
      "                                               label  \n",
      "0  Corn_(maize)___Cercospora_leaf_spot Gray_leaf_...  \n",
      "1  Corn_(maize)___Cercospora_leaf_spot Gray_leaf_...  \n",
      "2  Corn_(maize)___Cercospora_leaf_spot Gray_leaf_...  \n",
      "3  Corn_(maize)___Cercospora_leaf_spot Gray_leaf_...  \n",
      "4  Corn_(maize)___Cercospora_leaf_spot Gray_leaf_...  \n",
      "26591\n"
     ]
    }
   ],
   "source": [
    "\n",
    "img_info = pd.DataFrame({'image_path':image_list,'label':label_list})\n",
    "print(img_info.head())\n",
    "print(len(img_info))\n"
   ]
  },
  {
   "cell_type": "code",
   "execution_count": 5,
   "metadata": {},
   "outputs": [
    {
     "data": {
      "text/html": [
       "<div>\n",
       "<style scoped>\n",
       "    .dataframe tbody tr th:only-of-type {\n",
       "        vertical-align: middle;\n",
       "    }\n",
       "\n",
       "    .dataframe tbody tr th {\n",
       "        vertical-align: top;\n",
       "    }\n",
       "\n",
       "    .dataframe thead th {\n",
       "        text-align: right;\n",
       "    }\n",
       "</style>\n",
       "<table border=\"1\" class=\"dataframe\">\n",
       "  <thead>\n",
       "    <tr style=\"text-align: right;\">\n",
       "      <th></th>\n",
       "      <th>image_path</th>\n",
       "      <th>label</th>\n",
       "      <th>labels_integer</th>\n",
       "    </tr>\n",
       "  </thead>\n",
       "  <tbody>\n",
       "    <tr>\n",
       "      <th>26586</th>\n",
       "      <td>Dataset/Tomato___Tomato_Yellow_Leaf_Curl_Virus...</td>\n",
       "      <td>Tomato___Tomato_Yellow_Leaf_Curl_Virus</td>\n",
       "      <td>25</td>\n",
       "    </tr>\n",
       "    <tr>\n",
       "      <th>26587</th>\n",
       "      <td>Dataset/Tomato___Tomato_Yellow_Leaf_Curl_Virus...</td>\n",
       "      <td>Tomato___Tomato_Yellow_Leaf_Curl_Virus</td>\n",
       "      <td>25</td>\n",
       "    </tr>\n",
       "    <tr>\n",
       "      <th>26588</th>\n",
       "      <td>Dataset/Tomato___Tomato_Yellow_Leaf_Curl_Virus...</td>\n",
       "      <td>Tomato___Tomato_Yellow_Leaf_Curl_Virus</td>\n",
       "      <td>25</td>\n",
       "    </tr>\n",
       "    <tr>\n",
       "      <th>26589</th>\n",
       "      <td>Dataset/Tomato___Tomato_Yellow_Leaf_Curl_Virus...</td>\n",
       "      <td>Tomato___Tomato_Yellow_Leaf_Curl_Virus</td>\n",
       "      <td>25</td>\n",
       "    </tr>\n",
       "    <tr>\n",
       "      <th>26590</th>\n",
       "      <td>Dataset/Tomato___Tomato_Yellow_Leaf_Curl_Virus...</td>\n",
       "      <td>Tomato___Tomato_Yellow_Leaf_Curl_Virus</td>\n",
       "      <td>25</td>\n",
       "    </tr>\n",
       "  </tbody>\n",
       "</table>\n",
       "</div>"
      ],
      "text/plain": [
       "                                              image_path  \\\n",
       "26586  Dataset/Tomato___Tomato_Yellow_Leaf_Curl_Virus...   \n",
       "26587  Dataset/Tomato___Tomato_Yellow_Leaf_Curl_Virus...   \n",
       "26588  Dataset/Tomato___Tomato_Yellow_Leaf_Curl_Virus...   \n",
       "26589  Dataset/Tomato___Tomato_Yellow_Leaf_Curl_Virus...   \n",
       "26590  Dataset/Tomato___Tomato_Yellow_Leaf_Curl_Virus...   \n",
       "\n",
       "                                        label labels_integer  \n",
       "26586  Tomato___Tomato_Yellow_Leaf_Curl_Virus             25  \n",
       "26587  Tomato___Tomato_Yellow_Leaf_Curl_Virus             25  \n",
       "26588  Tomato___Tomato_Yellow_Leaf_Curl_Virus             25  \n",
       "26589  Tomato___Tomato_Yellow_Leaf_Curl_Virus             25  \n",
       "26590  Tomato___Tomato_Yellow_Leaf_Curl_Virus             25  "
      ]
     },
     "execution_count": 5,
     "metadata": {},
     "output_type": "execute_result"
    }
   ],
   "source": [
    "#new column (empty)\n",
    "img_info[\"labels_integer\"] = None\n",
    "#index of new column\n",
    "index_labels_integer = img_info.columns.get_loc(\"labels_integer\")\n",
    "#index of species column\n",
    "index_species = img_info.columns.get_loc(\"label\")\n",
    "#to assign numeric labels starting with 0 for the first species\n",
    "k = 0 \n",
    "for i in range(len(img_info)):\n",
    "    if i == 0:\n",
    "        img_info.iloc[i, index_labels_integer] = k #here, k == 0\n",
    "    if i > 0:\n",
    "        if img_info.iloc[i-1, index_species] == img_info.iloc[i, index_species]:\n",
    "            img_info.iloc[i, index_labels_integer] = k\n",
    "        else:\n",
    "            k += 1\n",
    "            img_info.iloc[i, index_labels_integer] = k\n",
    "img_info.tail()"
   ]
  },
  {
   "cell_type": "code",
   "execution_count": 6,
   "metadata": {},
   "outputs": [
    {
     "name": "stderr",
     "output_type": "stream",
     "text": [
      "C:\\Users\\jobin\\AppData\\Local\\Temp\\ipykernel_29044\\2472196027.py:8: DeprecationWarning: ANTIALIAS is deprecated and will be removed in Pillow 10 (2023-07-01). Use LANCZOS or Resampling.LANCZOS instead.\n",
      "  img = img.resize(size, PIL.Image.ANTIALIAS)\n"
     ]
    },
    {
     "name": "stdout",
     "output_type": "stream",
     "text": [
      "26591\n"
     ]
    }
   ],
   "source": [
    "img_info = shuffle(img_info)\n",
    "list_vectors = []\n",
    "\n",
    "for image_path in img_info.image_path:\n",
    "    #read as rgb array\n",
    "    img = Image.open(image_path)\n",
    "    size = (64, 64)\n",
    "    img = img.resize(size, PIL.Image.ANTIALIAS)  \n",
    "    img_array = np.array(img)\n",
    "    #append image vector to list\n",
    "    list_vectors.append(img_array)\n",
    "    \n",
    "print(len(list_vectors))"
   ]
  },
  {
   "cell_type": "code",
   "execution_count": 7,
   "metadata": {},
   "outputs": [
    {
     "name": "stdout",
     "output_type": "stream",
     "text": [
      "(26591, 64, 64, 3)\n"
     ]
    }
   ],
   "source": [
    "X = np.stack((list_vectors))\n",
    "Y =  img_info['labels_integer']\n",
    "print(X.shape)"
   ]
  },
  {
   "cell_type": "code",
   "execution_count": 8,
   "metadata": {},
   "outputs": [
    {
     "name": "stdout",
     "output_type": "stream",
     "text": [
      "(26591,) (26591, 26)\n"
     ]
    }
   ],
   "source": [
    "X = X/255\n",
    "Y_one_hot = keras.utils.to_categorical(Y, num_classes=len(listdir(directory_root)))\n",
    "print(Y.shape, Y_one_hot.shape)"
   ]
  },
  {
   "cell_type": "code",
   "execution_count": 9,
   "metadata": {},
   "outputs": [
    {
     "data": {
      "text/plain": [
       "'\\nnp.savez(\"x_images_arrayscnn\", X)\\nnp.savez(\"y_numeric_labelscnn\", Y_one_hot)\\n'"
      ]
     },
     "execution_count": 9,
     "metadata": {},
     "output_type": "execute_result"
    }
   ],
   "source": [
    "\"\"\"\n",
    "np.savez(\"x_images_arrayscnn\", X)\n",
    "np.savez(\"y_numeric_labelscnn\", Y_one_hot)\n",
    "\"\"\""
   ]
  },
  {
   "cell_type": "code",
   "execution_count": 10,
   "metadata": {},
   "outputs": [
    {
     "data": {
      "text/plain": [
       "'\\nx_npz = np.load(\"x_images_arrayscnn.npz\")\\nX = x_npz[\\'arr_0\\']\\n\\ny_npz = np.load(\"y_numeric_labelscnn.npz\")\\nY_one_hot = y_npz[\\'arr_0\\']\\n\\nprint(X.shape)\\n'"
      ]
     },
     "execution_count": 10,
     "metadata": {},
     "output_type": "execute_result"
    }
   ],
   "source": [
    "\"\"\"\n",
    "x_npz = np.load(\"x_images_arrayscnn.npz\")\n",
    "X = x_npz['arr_0']\n",
    "\n",
    "y_npz = np.load(\"y_numeric_labelscnn.npz\")\n",
    "Y_one_hot = y_npz['arr_0']\n",
    "\n",
    "print(X.shape)\n",
    "\"\"\""
   ]
  },
  {
   "cell_type": "code",
   "execution_count": 11,
   "metadata": {},
   "outputs": [
    {
     "name": "stdout",
     "output_type": "stream",
     "text": [
      "(21272, 64, 64, 3) (2659, 64, 64, 3) (2660, 64, 64, 3) (21272, 26) (2659, 26) (2660, 26)\n"
     ]
    }
   ],
   "source": [
    "split_train = 0.8 #train 0.8, validate 0.1, test 0.1\n",
    "split_val = 0.9\n",
    "index_train = int(split_train*len(X))\n",
    "index_val = int(split_val*len(X))\n",
    "\n",
    "X_train = X[:index_train]\n",
    "X_val = X[index_train:index_val]\n",
    "X_test = X[index_val:]\n",
    "\n",
    "Y_train = Y_one_hot[:index_train]\n",
    "Y_val = Y_one_hot[index_train:index_val]\n",
    "Y_test = Y_one_hot[index_val:]\n",
    "\n",
    "print(X_train.shape, X_val.shape, X_test.shape, Y_train.shape, Y_val.shape, Y_test.shape)"
   ]
  },
  {
   "cell_type": "code",
   "execution_count": 12,
   "metadata": {},
   "outputs": [
    {
     "name": "stdout",
     "output_type": "stream",
     "text": [
      "WARNING:tensorflow:From c:\\Users\\jobin\\anaconda3\\Lib\\site-packages\\keras\\src\\backend.py:873: The name tf.get_default_graph is deprecated. Please use tf.compat.v1.get_default_graph instead.\n",
      "\n",
      "WARNING:tensorflow:From c:\\Users\\jobin\\anaconda3\\Lib\\site-packages\\keras\\src\\layers\\normalization\\batch_normalization.py:979: The name tf.nn.fused_batch_norm is deprecated. Please use tf.compat.v1.nn.fused_batch_norm instead.\n",
      "\n"
     ]
    },
    {
     "name": "stderr",
     "output_type": "stream",
     "text": [
      "WARNING:absl:`lr` is deprecated in Keras optimizer, please use `learning_rate` or use the legacy optimizer, e.g.,tf.keras.optimizers.legacy.Adam.\n"
     ]
    }
   ],
   "source": [
    "import tensorflow as tf\n",
    "from tensorflow.keras import layers, models\n",
    "from tensorflow.keras.applications import EfficientNetB3\n",
    "from tensorflow.keras.optimizers import Adam\n",
    "\n",
    "input_shape = (X_train.shape[1], X_train.shape[2], X_train.shape[3])\n",
    "num_classes = len(listdir(directory_root))\n",
    "\n",
    "model = models.Sequential()\n",
    "model.add(EfficientNetB3(include_top=False, weights='imagenet', input_shape=input_shape, drop_connect_rate=0.3))\n",
    "\n",
    "model.add(layers.GlobalAveragePooling2D())\n",
    "model.add(layers.Flatten())\n",
    "model.add(layers.Dense(256, activation=\"relu\"))\n",
    "model.add(layers.Dropout(0.3))\n",
    "model.add(layers.Dense(num_classes, activation='softmax'))\n",
    "\n",
    "model.compile(\n",
    "    optimizer=Adam(lr=1e-4),\n",
    "    loss='categorical_crossentropy',\n",
    "    metrics=[\"accuracy\"]\n",
    ")\n",
    "\n",
    "rlronp = tf.keras.callbacks.ReduceLROnPlateau(monitor=\"val_loss\",\n",
    "                                              factor=0.2,\n",
    "                                              mode=\"min\",\n",
    "                                              min_lr=1e-6,\n",
    "                                              patience=2,\n",
    "                                              verbose=1)\n",
    "\n",
    "estop = tf.keras.callbacks.EarlyStopping(monitor=\"val_loss\",\n",
    "                                         mode=\"min\",\n",
    "                                         patience=3,\n",
    "                                         verbose=1,\n",
    "                                         restore_best_weights=True)"
   ]
  },
  {
   "cell_type": "code",
   "execution_count": 13,
   "metadata": {},
   "outputs": [
    {
     "name": "stdout",
     "output_type": "stream",
     "text": [
      "Model: \"sequential\"\n",
      "_________________________________________________________________\n",
      " Layer (type)                Output Shape              Param #   \n",
      "=================================================================\n",
      " efficientnetb3 (Functional  (None, 2, 2, 1536)        10783535  \n",
      " )                                                               \n",
      "                                                                 \n",
      " global_average_pooling2d (  (None, 1536)              0         \n",
      " GlobalAveragePooling2D)                                         \n",
      "                                                                 \n",
      " flatten (Flatten)           (None, 1536)              0         \n",
      "                                                                 \n",
      " dense (Dense)               (None, 256)               393472    \n",
      "                                                                 \n",
      " dropout (Dropout)           (None, 256)               0         \n",
      "                                                                 \n",
      " dense_1 (Dense)             (None, 26)                6682      \n",
      "                                                                 \n",
      "=================================================================\n",
      "Total params: 11183689 (42.66 MB)\n",
      "Trainable params: 11096386 (42.33 MB)\n",
      "Non-trainable params: 87303 (341.03 KB)\n",
      "_________________________________________________________________\n"
     ]
    }
   ],
   "source": [
    "model.summary()"
   ]
  },
  {
   "cell_type": "code",
   "execution_count": 14,
   "metadata": {},
   "outputs": [
    {
     "name": "stdout",
     "output_type": "stream",
     "text": [
      "Training model...\n",
      "Epoch 1/100\n",
      "WARNING:tensorflow:From c:\\Users\\jobin\\anaconda3\\Lib\\site-packages\\keras\\src\\utils\\tf_utils.py:492: The name tf.ragged.RaggedTensorValue is deprecated. Please use tf.compat.v1.ragged.RaggedTensorValue instead.\n",
      "\n"
     ]
    },
    {
     "name": "stderr",
     "output_type": "stream",
     "text": [
      "WARNING:tensorflow:From c:\\Users\\jobin\\anaconda3\\Lib\\site-packages\\keras\\src\\utils\\tf_utils.py:492: The name tf.ragged.RaggedTensorValue is deprecated. Please use tf.compat.v1.ragged.RaggedTensorValue instead.\n",
      "\n"
     ]
    },
    {
     "name": "stdout",
     "output_type": "stream",
     "text": [
      "WARNING:tensorflow:From c:\\Users\\jobin\\anaconda3\\Lib\\site-packages\\keras\\src\\engine\\base_layer_utils.py:384: The name tf.executing_eagerly_outside_functions is deprecated. Please use tf.compat.v1.executing_eagerly_outside_functions instead.\n",
      "\n"
     ]
    },
    {
     "name": "stderr",
     "output_type": "stream",
     "text": [
      "WARNING:tensorflow:From c:\\Users\\jobin\\anaconda3\\Lib\\site-packages\\keras\\src\\engine\\base_layer_utils.py:384: The name tf.executing_eagerly_outside_functions is deprecated. Please use tf.compat.v1.executing_eagerly_outside_functions instead.\n",
      "\n"
     ]
    },
    {
     "name": "stdout",
     "output_type": "stream",
     "text": [
      "333/333 [==============================] - ETA: 0s - loss: 0.7611 - accuracy: 0.7675\n",
      "Epoch 1: val_loss improved from inf to 5.72667, saving model to efnetb3_m3_keras.keras\n",
      "333/333 [==============================] - 185s 483ms/step - loss: 0.7611 - accuracy: 0.7675 - val_loss: 5.7267 - val_accuracy: 0.1140 - lr: 0.0010\n",
      "Epoch 2/100\n",
      "333/333 [==============================] - ETA: 0s - loss: 0.2810 - accuracy: 0.9088\n",
      "Epoch 2: val_loss improved from 5.72667 to 5.10329, saving model to efnetb3_m3_keras.keras\n",
      "333/333 [==============================] - 160s 481ms/step - loss: 0.2810 - accuracy: 0.9088 - val_loss: 5.1033 - val_accuracy: 0.0139 - lr: 0.0010\n",
      "Epoch 3/100\n",
      "333/333 [==============================] - ETA: 0s - loss: 0.1905 - accuracy: 0.9390\n",
      "Epoch 3: val_loss did not improve from 5.10329\n",
      "333/333 [==============================] - 160s 481ms/step - loss: 0.1905 - accuracy: 0.9390 - val_loss: 507.4636 - val_accuracy: 0.0511 - lr: 0.0010\n",
      "Epoch 4/100\n",
      "333/333 [==============================] - ETA: 0s - loss: 0.1636 - accuracy: 0.9477\n",
      "Epoch 4: ReduceLROnPlateau reducing learning rate to 0.00020000000949949026.\n",
      "\n",
      "Epoch 4: val_loss did not improve from 5.10329\n",
      "333/333 [==============================] - 162s 486ms/step - loss: 0.1636 - accuracy: 0.9477 - val_loss: 5.6556 - val_accuracy: 0.0940 - lr: 0.0010\n",
      "Epoch 5/100\n",
      "333/333 [==============================] - ETA: 0s - loss: 0.0623 - accuracy: 0.9791\n",
      "Epoch 5: val_loss improved from 5.10329 to 1.98841, saving model to efnetb3_m3_keras.keras\n",
      "333/333 [==============================] - 168s 505ms/step - loss: 0.0623 - accuracy: 0.9791 - val_loss: 1.9884 - val_accuracy: 0.5175 - lr: 2.0000e-04\n",
      "Epoch 6/100\n",
      "333/333 [==============================] - ETA: 0s - loss: 0.0365 - accuracy: 0.9878\n",
      "Epoch 6: val_loss did not improve from 1.98841\n",
      "333/333 [==============================] - 167s 500ms/step - loss: 0.0365 - accuracy: 0.9878 - val_loss: 5.0948 - val_accuracy: 0.1655 - lr: 2.0000e-04\n",
      "Epoch 7/100\n",
      "333/333 [==============================] - ETA: 0s - loss: 0.0268 - accuracy: 0.9909\n",
      "Epoch 7: ReduceLROnPlateau reducing learning rate to 4.0000001899898055e-05.\n",
      "\n",
      "Epoch 7: val_loss did not improve from 1.98841\n",
      "333/333 [==============================] - 169s 509ms/step - loss: 0.0268 - accuracy: 0.9909 - val_loss: 2.8134 - val_accuracy: 0.4212 - lr: 2.0000e-04\n",
      "Epoch 8/100\n",
      "333/333 [==============================] - ETA: 0s - loss: 0.0202 - accuracy: 0.9934\n",
      "Epoch 8: val_loss improved from 1.98841 to 0.33766, saving model to efnetb3_m3_keras.keras\n",
      "333/333 [==============================] - 170s 512ms/step - loss: 0.0202 - accuracy: 0.9934 - val_loss: 0.3377 - val_accuracy: 0.9161 - lr: 4.0000e-05\n",
      "Epoch 9/100\n",
      "333/333 [==============================] - ETA: 0s - loss: 0.0161 - accuracy: 0.9947\n",
      "Epoch 9: val_loss improved from 0.33766 to 0.17547, saving model to efnetb3_m3_keras.keras\n",
      "333/333 [==============================] - 168s 504ms/step - loss: 0.0161 - accuracy: 0.9947 - val_loss: 0.1755 - val_accuracy: 0.9455 - lr: 4.0000e-05\n",
      "Epoch 10/100\n",
      "333/333 [==============================] - ETA: 0s - loss: 0.0153 - accuracy: 0.9948\n",
      "Epoch 10: val_loss did not improve from 0.17547\n",
      "333/333 [==============================] - 164s 492ms/step - loss: 0.0153 - accuracy: 0.9948 - val_loss: 2.1076 - val_accuracy: 0.5950 - lr: 4.0000e-05\n",
      "Epoch 11/100\n",
      "333/333 [==============================] - ETA: 0s - loss: 0.0138 - accuracy: 0.9947\n",
      "Epoch 11: val_loss improved from 0.17547 to 0.16364, saving model to efnetb3_m3_keras.keras\n",
      "333/333 [==============================] - 166s 498ms/step - loss: 0.0138 - accuracy: 0.9947 - val_loss: 0.1636 - val_accuracy: 0.9575 - lr: 4.0000e-05\n",
      "Epoch 12/100\n",
      "333/333 [==============================] - ETA: 0s - loss: 0.0121 - accuracy: 0.9958\n",
      "Epoch 12: val_loss did not improve from 0.16364\n",
      "333/333 [==============================] - 164s 494ms/step - loss: 0.0121 - accuracy: 0.9958 - val_loss: 2.0215 - val_accuracy: 0.6164 - lr: 4.0000e-05\n",
      "Epoch 13/100\n",
      "333/333 [==============================] - ETA: 0s - loss: 0.0120 - accuracy: 0.9965\n",
      "Epoch 13: ReduceLROnPlateau reducing learning rate to 8.000000525498762e-06.\n",
      "\n",
      "Epoch 13: val_loss did not improve from 0.16364\n",
      "333/333 [==============================] - 163s 489ms/step - loss: 0.0120 - accuracy: 0.9965 - val_loss: 5.8058 - val_accuracy: 0.2636 - lr: 4.0000e-05\n",
      "Epoch 14/100\n",
      "333/333 [==============================] - ETA: 0s - loss: 0.0105 - accuracy: 0.9968\n",
      "Epoch 14: val_loss improved from 0.16364 to 0.06773, saving model to efnetb3_m3_keras.keras\n",
      "333/333 [==============================] - 165s 494ms/step - loss: 0.0105 - accuracy: 0.9968 - val_loss: 0.0677 - val_accuracy: 0.9838 - lr: 8.0000e-06\n",
      "Epoch 15/100\n",
      "333/333 [==============================] - ETA: 0s - loss: 0.0089 - accuracy: 0.9972\n",
      "Epoch 15: val_loss did not improve from 0.06773\n",
      "333/333 [==============================] - 163s 491ms/step - loss: 0.0089 - accuracy: 0.9972 - val_loss: 0.0856 - val_accuracy: 0.9778 - lr: 8.0000e-06\n",
      "Epoch 16/100\n",
      "333/333 [==============================] - ETA: 0s - loss: 0.0087 - accuracy: 0.9973\n",
      "Epoch 16: ReduceLROnPlateau reducing learning rate to 1.6000001778593287e-06.\n",
      "\n",
      "Epoch 16: val_loss did not improve from 0.06773\n",
      "333/333 [==============================] - 164s 493ms/step - loss: 0.0087 - accuracy: 0.9973 - val_loss: 0.0886 - val_accuracy: 0.9778 - lr: 8.0000e-06\n",
      "Epoch 17/100\n",
      "333/333 [==============================] - ETA: 0s - loss: 0.0088 - accuracy: 0.9974\n",
      "Epoch 17: val_loss improved from 0.06773 to 0.05808, saving model to efnetb3_m3_keras.keras\n",
      "333/333 [==============================] - 165s 496ms/step - loss: 0.0088 - accuracy: 0.9974 - val_loss: 0.0581 - val_accuracy: 0.9876 - lr: 1.6000e-06\n",
      "Epoch 18/100\n",
      "333/333 [==============================] - ETA: 0s - loss: 0.0081 - accuracy: 0.9976\n",
      "Epoch 18: val_loss improved from 0.05808 to 0.05675, saving model to efnetb3_m3_keras.keras\n",
      "333/333 [==============================] - 167s 500ms/step - loss: 0.0081 - accuracy: 0.9976 - val_loss: 0.0567 - val_accuracy: 0.9876 - lr: 1.6000e-06\n",
      "Epoch 19/100\n",
      "333/333 [==============================] - ETA: 0s - loss: 0.0081 - accuracy: 0.9974\n",
      "Epoch 19: val_loss did not improve from 0.05675\n",
      "333/333 [==============================] - 164s 493ms/step - loss: 0.0081 - accuracy: 0.9974 - val_loss: 0.0577 - val_accuracy: 0.9872 - lr: 1.6000e-06\n",
      "Epoch 20/100\n",
      "333/333 [==============================] - ETA: 0s - loss: 0.0073 - accuracy: 0.9982\n",
      "Epoch 20: ReduceLROnPlateau reducing learning rate to 1e-06.\n",
      "\n",
      "Epoch 20: val_loss did not improve from 0.05675\n",
      "333/333 [==============================] - 163s 489ms/step - loss: 0.0073 - accuracy: 0.9982 - val_loss: 0.0595 - val_accuracy: 0.9880 - lr: 1.6000e-06\n",
      "Epoch 21/100\n",
      "333/333 [==============================] - ETA: 0s - loss: 0.0078 - accuracy: 0.9976Restoring model weights from the end of the best epoch: 18.\n",
      "\n",
      "Epoch 21: val_loss did not improve from 0.05675\n",
      "333/333 [==============================] - 163s 490ms/step - loss: 0.0078 - accuracy: 0.9976 - val_loss: 0.0574 - val_accuracy: 0.9883 - lr: 1.0000e-06\n",
      "Epoch 21: early stopping\n",
      "Training finished.\n"
     ]
    },
    {
     "data": {
      "image/png": "[encoded data removed]",
      "text/plain": [
       "<Figure size 1200x600 with 2 Axes>"
      ]
     },
     "metadata": {},
     "output_type": "display_data"
    },
    {
     "name": "stdout",
     "output_type": "stream",
     "text": [
      "INFO:tensorflow:Assets written to: C:\\Users\\jobin\\AppData\\Local\\Temp\\tmpky9ofe_q\\assets\n"
     ]
    },
    {
     "name": "stderr",
     "output_type": "stream",
     "text": [
      "INFO:tensorflow:Assets written to: C:\\Users\\jobin\\AppData\\Local\\Temp\\tmpky9ofe_q\\assets\n"
     ]
    },
    {
     "name": "stdout",
     "output_type": "stream",
     "text": [
      "84/84 [==============================] - 11s 98ms/step - loss: 0.0510 - accuracy: 0.9861\n",
      "84/84 [==============================] - 8s 95ms/step - loss: 0.0510 - accuracy: 0.9861\n",
      "Test Loss: 0.05104687809944153\n",
      "Test Accuracy: 0.9860902428627014\n",
      "84/84 [==============================] - 10s 94ms/step\n",
      "Confusion Matrix:\n",
      "[[165   0   0   7   0   0   0   0   0   0   0   0   0   0   0   0   0   0\n",
      "    0   0   0   0   0   0   0   0]\n",
      " [  0 208   0   0   0   0   0   0   0   0   0   0   0   0   0   0   0   0\n",
      "    0   0   0   0   0   0   0   0]\n",
      " [  0   0 177   0   0   0   0   0   0   0   0   0   0   0   0   0   0   0\n",
      "    0   0   0   0   0   0   0   0]\n",
      " [  0   0   1 187   0   0   0   0   0   0   0   0   0   0   0   0   0   0\n",
      "    0   0   0   0   0   0   0   0]\n",
      " [  0   0   0   0  35   0   0   0   0   0   0   0   0   0   0   0   0   0\n",
      "    0   0   0   0   0   0   0   0]\n",
      " [  0   0   0   0   1  32   1   5   0   0   0   0   0   0   0   0   0   0\n",
      "    0   0   0   0   0   0   0   0]\n",
      " [  0   0   0   0   0   3  44   1   0   0   0   0   0   0   0   0   0   0\n",
      "    0   0   0   0   0   0   0   0]\n",
      " [  0   0   0   0   0   1   1  26   0   0   0   0   0   0   0   0   0   0\n",
      "    0   0   0   0   0   0   0   0]\n",
      " [  0   0   0   0   0   0   0   0  48   0   0   0   0   0   0   0   0   0\n",
      "    0   0   0   0   0   0   0   0]\n",
      " [  0   0   0   0   0   1   0   0   1  35   0   0   0   0   0   0   0   0\n",
      "    0   0   0   0   0   0   0   0]\n",
      " [  0   0   0   0   0   0   0   0   0   0 110   0   0   0   0   0   0   0\n",
      "    0   0   0   0   0   0   0   0]\n",
      " [  0   0   0   0   0   0   0   0   0   0   0 135   0   0   0   0   0   0\n",
      "    0   0   0   0   0   0   0   0]\n",
      " [  0   0   0   0   0   0   0   0   0   0   0   0 107   0   0   0   0   0\n",
      "    0   0   0   0   0   0   0   0]\n",
      " [  0   0   0   0   0   0   0   0   0   0   0   0   0   8   0   0   0   0\n",
      "    0   0   0   0   0   0   0   0]\n",
      " [  0   0   0   0   0   0   0   0   0   0   0   0   0   0  88   0   0   0\n",
      "    0   0   0   0   0   0   0   0]\n",
      " [  0   0   0   0   0   0   0   0   0   0   0   0   0   0   0 186   0   0\n",
      "    0   0   0   0   0   0   0   0]\n",
      " [  0   0   0   0   0   0   0   0   0   0   0   0   0   0   0   0  95   0\n",
      "    0   0   0   0   0   1   0   1]\n",
      " [  0   0   0   0   0   0   0   0   0   0   0   0   0   0   0   0   1 107\n",
      "    0   1   0   1   0   0   0   0]\n",
      " [  0   0   0   0   0   0   0   0   0   0   0   0   0   0   0   0   0   0\n",
      "   97   0   0   0   0   0   0   0]\n",
      " [  0   0   0   0   0   0   0   0   0   0   0   0   0   0   1   0   0   0\n",
      "    0 106   0   0   0   0   0   0]\n",
      " [  0   0   0   0   0   0   0   0   0   0   0   1   0   0   0   0   0   0\n",
      "    0   0 100   0   0   0   0   0]\n",
      " [  0   0   0   0   0   0   0   0   0   0   0   0   1   0   0   0   0   0\n",
      "    0   0   0 104   0   0   1   0]\n",
      " [  0   0   0   0   0   0   0   0   0   0   0   0   0   0   0   0   0   0\n",
      "    0   0   0   0 105   0   0   0]\n",
      " [  0   0   0   0   0   0   0   0   0   0   0   0   0   0   0   0   0   0\n",
      "    0   0   0   0   2  93   0   0]\n",
      " [  0   0   0   0   0   0   0   0   0   0   0   0   0   0   0   0   0   0\n",
      "    0   0   0   0   0   0 101   0]\n",
      " [  0   0   0   0   0   0   0   0   0   0   0   0   0   0   0   0   1   0\n",
      "    0   0   1   0   1   0   0 124]]\n",
      "\n",
      "Classification Report:\n",
      "              precision    recall  f1-score   support\n",
      "\n",
      "           0       1.00      0.96      0.98       172\n",
      "           1       1.00      1.00      1.00       208\n",
      "           2       0.99      1.00      1.00       177\n",
      "           3       0.96      0.99      0.98       188\n",
      "           4       0.97      1.00      0.99        35\n",
      "           5       0.86      0.82      0.84        39\n",
      "           6       0.96      0.92      0.94        48\n",
      "           7       0.81      0.93      0.87        28\n",
      "           8       0.98      1.00      0.99        48\n",
      "           9       1.00      0.95      0.97        37\n",
      "          10       1.00      1.00      1.00       110\n",
      "          11       0.99      1.00      1.00       135\n",
      "          12       0.99      1.00      1.00       107\n",
      "          13       1.00      1.00      1.00         8\n",
      "          14       0.99      1.00      0.99        88\n",
      "          15       1.00      1.00      1.00       186\n",
      "          16       0.98      0.98      0.98        97\n",
      "          17       1.00      0.97      0.99       110\n",
      "          18       1.00      1.00      1.00        97\n",
      "          19       0.99      0.99      0.99       107\n",
      "          20       0.99      0.99      0.99       101\n",
      "          21       0.99      0.98      0.99       106\n",
      "          22       0.97      1.00      0.99       105\n",
      "          23       0.99      0.98      0.98        95\n",
      "          24       0.99      1.00      1.00       101\n",
      "          25       0.99      0.98      0.98       127\n",
      "\n",
      "    accuracy                           0.99      2660\n",
      "   macro avg       0.98      0.98      0.98      2660\n",
      "weighted avg       0.99      0.99      0.99      2660\n",
      "\n"
     ]
    }
   ],
   "source": [
    "import tensorflow as tf\n",
    "from tensorflow.keras.models import load_model\n",
    "from sklearn.metrics import confusion_matrix, classification_report\n",
    "import matplotlib.pyplot as plt\n",
    "\n",
    "# Model Checkpoint\n",
    "best_model_file = \"efnetb3_m3_keras.keras\"\n",
    "best_model = tf.keras.callbacks.ModelCheckpoint(best_model_file, monitor='val_loss', verbose=1, save_best_only=True)\n",
    "\n",
    "print('Training model...')\n",
    "history = model.fit(\n",
    "    X_train, Y_train,\n",
    "    epochs=100,\n",
    "    batch_size=64,\n",
    "    validation_data=(X_val, Y_val),\n",
    "    callbacks=[rlronp, estop, best_model]\n",
    ")\n",
    "\n",
    "print('Training finished.')\n",
    "\n",
    "# Visualize training history\n",
    "plt.figure(figsize=(12, 6))\n",
    "\n",
    "# Plot training & validation accuracy values\n",
    "plt.subplot(1, 2, 1)\n",
    "plt.plot(history.history['accuracy'])\n",
    "plt.plot(history.history['val_accuracy'])\n",
    "plt.title('Model accuracy')\n",
    "plt.xlabel('Epoch')\n",
    "plt.ylabel('Accuracy')\n",
    "plt.legend(['Train', 'Validation'], loc='upper left')\n",
    "\n",
    "# Plot training & validation loss values\n",
    "plt.subplot(1, 2, 2)\n",
    "plt.plot(history.history['loss'])\n",
    "plt.plot(history.history['val_loss'])\n",
    "plt.title('Model loss')\n",
    "plt.xlabel('Epoch')\n",
    "plt.ylabel('Loss')\n",
    "plt.legend(['Train', 'Validation'], loc='upper left')\n",
    "\n",
    "plt.tight_layout()\n",
    "plt.show()\n",
    "\n",
    "# Load the best model\n",
    "model = load_model(best_model_file)\n",
    "\n",
    "# Convert the Keras model to TFLite format\n",
    "converter = tf.lite.TFLiteConverter.from_keras_model(model)\n",
    "tflite_model = converter.convert()\n",
    "\n",
    "# Save the TFLite model to a file\n",
    "tflite_model_file = \"efnetb3_m3_tflite.tflite\"\n",
    "with open(tflite_model_file, 'wb') as f:\n",
    "    f.write(tflite_model)\n",
    "\n",
    "# Evaluate the best model on the test set\n",
    "model.evaluate(X_test, Y_test)\n",
    "\n",
    "# Evaluate the best model on the test set and compute accuracy\n",
    "test_loss, test_accuracy = model.evaluate(X_test, Y_test)\n",
    "print(\"Test Loss:\", test_loss)\n",
    "print(\"Test Accuracy:\", test_accuracy)\n",
    "\n",
    "# Make predictions on the test set\n",
    "Y_pred = model.predict(X_test)\n",
    "Y_pred_labels = np.argmax(Y_pred, axis=1)\n",
    "Y_true_labels = np.argmax(Y_test, axis=1)\n",
    "\n",
    "# Compute confusion matrix\n",
    "conf_mat = confusion_matrix(Y_true_labels, Y_pred_labels)\n",
    "\n",
    "# Print confusion matrix\n",
    "print(\"Confusion Matrix:\")\n",
    "print(conf_mat)\n",
    "\n",
    "# Print classification report\n",
    "print(\"\\nClassification Report:\")\n",
    "print(classification_report(Y_true_labels, Y_pred_labels))\n"
   ]
  },
  {
   "cell_type": "code",
   "execution_count": 15,
   "metadata": {},
   "outputs": [
    {
     "data": {
      "text/plain": [
       "\"\\nimport tensorflow as tf\\n\\ndef convert_h5_to_tflite(h5_path, tflite_path):\\n    # Load the model from the HDF5 file\\n    model = tf.keras.models.load_model(h5_path)\\n\\n    # Convert the model to TensorFlow Lite format\\n    converter = tf.lite.TFLiteConverter.from_keras_model(model)\\n    tflite_model = converter.convert()\\n\\n    # Save the TFLite model to a file\\n    with open(tflite_path, 'wb') as f:\\n        f.write(tflite_model)\\n\\n# Specify the paths for your HDF5 and TFLite files\\nh5_file_path = 'efficientnetb3_model.h5'\\ntflite_file_path = 'efficientnetb3tflite.tflite'\\n\\n# Call the function to convert the HDF5 model to TFLite\\nconvert_h5_to_tflite(h5_file_path, tflite_file_path)\\n\""
      ]
     },
     "execution_count": 15,
     "metadata": {},
     "output_type": "execute_result"
    }
   ],
   "source": [
    "'''\n",
    "import tensorflow as tf\n",
    "\n",
    "def convert_h5_to_tflite(h5_path, tflite_path):\n",
    "    # Load the model from the HDF5 file\n",
    "    model = tf.keras.models.load_model(h5_path)\n",
    "\n",
    "    # Convert the model to TensorFlow Lite format\n",
    "    converter = tf.lite.TFLiteConverter.from_keras_model(model)\n",
    "    tflite_model = converter.convert()\n",
    "\n",
    "    # Save the TFLite model to a file\n",
    "    with open(tflite_path, 'wb') as f:\n",
    "        f.write(tflite_model)\n",
    "\n",
    "# Specify the paths for your HDF5 and TFLite files\n",
    "h5_file_path = 'efficientnetb3_model.h5'\n",
    "tflite_file_path = 'efficientnetb3tflite.tflite'\n",
    "\n",
    "# Call the function to convert the HDF5 model to TFLite\n",
    "convert_h5_to_tflite(h5_file_path, tflite_file_path)\n",
    "'''"
   ]
  },
  {
   "cell_type": "code",
   "execution_count": 16,
   "metadata": {},
   "outputs": [
    {
     "data": {
      "text/plain": [
       "'import tensorflow as tf\\nfrom PIL import Image\\n\\ndef load_and_preprocess_image(image_path, input_shape):\\n    # Load the image using PIL\\n    img = Image.open(image_path)\\n    \\n    # Resize the image to match the expected input shape\\n    img = img.resize((input_shape[1], input_shape[2]))\\n    \\n    # Convert the image to a NumPy array\\n    img_array = tf.keras.preprocessing.image.img_to_array(img)\\n    \\n    # Expand the dimensions to create a batch of size 1\\n    img_array = tf.expand_dims(img_array, 0)\\n    \\n    return img_array\\n\\ndef predict_image_class(image_path, interpreter):\\n    # Load and preprocess the image\\n    input_details = interpreter.get_input_details()\\n    input_shape = input_details[0][\\'shape\\']\\n    img = load_and_preprocess_image(image_path, input_shape)\\n\\n    # Set the input tensor\\n    interpreter.set_tensor(input_details[0][\\'index\\'], img)\\n\\n    # Run the inference\\n    interpreter.invoke()\\n\\n    # Get the output tensor\\n    output_details = interpreter.get_output_details()\\n    output = interpreter.get_tensor(output_details[0][\\'index\\'])\\n\\n    # Process the output (assuming classification task)\\n    predicted_class = tf.argmax(output[0]).numpy()\\n\\n    return predicted_class\\n\\n# Specify the paths for your TFLite model and input image\\ntflite_model_path = \\'efficientnetb3tflite.tflite\\'\\nimage_path = \\'leafcurl.jpg\\'\\n\\n# Load the TFLite model\\ninterpreter = tf.lite.Interpreter(model_path=tflite_model_path)\\ninterpreter.allocate_tensors()\\n\\n# Call the function to predict the class of the input image\\npredicted_class = predict_image_class(image_path, interpreter)\\nprint(\"Predicted Class:\", predicted_class)\\n'"
      ]
     },
     "execution_count": 16,
     "metadata": {},
     "output_type": "execute_result"
    }
   ],
   "source": [
    "'''import tensorflow as tf\n",
    "from PIL import Image\n",
    "\n",
    "def load_and_preprocess_image(image_path, input_shape):\n",
    "    # Load the image using PIL\n",
    "    img = Image.open(image_path)\n",
    "    \n",
    "    # Resize the image to match the expected input shape\n",
    "    img = img.resize((input_shape[1], input_shape[2]))\n",
    "    \n",
    "    # Convert the image to a NumPy array\n",
    "    img_array = tf.keras.preprocessing.image.img_to_array(img)\n",
    "    \n",
    "    # Expand the dimensions to create a batch of size 1\n",
    "    img_array = tf.expand_dims(img_array, 0)\n",
    "    \n",
    "    return img_array\n",
    "\n",
    "def predict_image_class(image_path, interpreter):\n",
    "    # Load and preprocess the image\n",
    "    input_details = interpreter.get_input_details()\n",
    "    input_shape = input_details[0]['shape']\n",
    "    img = load_and_preprocess_image(image_path, input_shape)\n",
    "\n",
    "    # Set the input tensor\n",
    "    interpreter.set_tensor(input_details[0]['index'], img)\n",
    "\n",
    "    # Run the inference\n",
    "    interpreter.invoke()\n",
    "\n",
    "    # Get the output tensor\n",
    "    output_details = interpreter.get_output_details()\n",
    "    output = interpreter.get_tensor(output_details[0]['index'])\n",
    "\n",
    "    # Process the output (assuming classification task)\n",
    "    predicted_class = tf.argmax(output[0]).numpy()\n",
    "\n",
    "    return predicted_class\n",
    "\n",
    "# Specify the paths for your TFLite model and input image\n",
    "tflite_model_path = 'efficientnetb3tflite.tflite'\n",
    "image_path = 'leafcurl.jpg'\n",
    "\n",
    "# Load the TFLite model\n",
    "interpreter = tf.lite.Interpreter(model_path=tflite_model_path)\n",
    "interpreter.allocate_tensors()\n",
    "\n",
    "# Call the function to predict the class of the input image\n",
    "predicted_class = predict_image_class(image_path, interpreter)\n",
    "print(\"Predicted Class:\", predicted_class)\n",
    "'''"
   ]
  }
 ],
 "metadata": {
  "kernelspec": {
   "display_name": "base",
   "language": "python",
   "name": "python3"
  },
  "language_info": {
   "codemirror_mode": {
    "name": "ipython",
    "version": 3
   },
   "file_extension": ".py",
   "mimetype": "text/x-python",
   "name": "python",
   "nbconvert_exporter": "python",
   "pygments_lexer": "ipython3",
   "version": "3.11.5"
  }
 },
 "nbformat": 4,
 "nbformat_minor": 2
}
